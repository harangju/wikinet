{
 "cells": [
  {
   "cell_type": "markdown",
   "metadata": {},
   "source": [
    "# Load networks"
   ]
  },
  {
   "cell_type": "code",
   "execution_count": null,
   "metadata": {
    "scrolled": true
   },
   "outputs": [],
   "source": [
    "%reload_ext autoreload\n",
    "%autoreload 2\n",
    "import os,sys\n",
    "sys.path.insert(1, os.path.join(sys.path[0], '..'))\n",
    "import wikinet as wiki\n",
    "import numpy as np\n",
    "import pandas as pd\n",
    "import networkx as nx\n",
    "import scipy as sp"
   ]
  },
  {
   "cell_type": "code",
   "execution_count": null,
   "metadata": {
    "scrolled": true
   },
   "outputs": [],
   "source": [
    "import plotly.express as px\n",
    "import plotly.graph_objects as go"
   ]
  },
  {
   "cell_type": "code",
   "execution_count": null,
   "metadata": {
    "scrolled": true
   },
   "outputs": [],
   "source": [
    "all_topics = [\n",
    "    'anatomy', 'biochemistry', 'cognitive science', 'evolutionary biology',\n",
    "    'genetics', 'immunology', 'molecular biology', 'chemistry', 'biophysics',\n",
    "    'energy', 'optics', 'earth science', 'geology', 'meteorology',\n",
    "    'philosophy of language', 'philosophy of law', 'philosophy of mind',\n",
    "    'philosophy of science', 'economics', 'accounting', 'education',\n",
    "    'linguistics', 'law', 'psychology', 'sociology', 'electronics',\n",
    "    'software engineering', 'robotics',\n",
    "    'calculus', 'geometry', 'abstract algebra',\n",
    "    'Boolean algebra', 'commutative algebra', 'group theory', 'linear algebra',\n",
    "    'number theory', 'dynamical systems and differential equations'\n",
    "]\n",
    "topics = [\n",
    "    'biochemistry', 'cognitive science', 'evolutionary biology',\n",
    "    'genetics', 'molecular biology', 'energy', 'optics',\n",
    "    'philosophy of language', 'philosophy of law', 'philosophy of science',\n",
    "    'linguistics', 'software engineering'\n",
    "]"
   ]
  },
  {
   "cell_type": "code",
   "execution_count": null,
   "metadata": {
    "scrolled": true
   },
   "outputs": [],
   "source": [
    "path_saved = os.path.join(\n",
    "    '/','Users','harangju','Developer', 'data','wiki','graphs','dated'\n",
    ")"
   ]
  },
  {
   "cell_type": "code",
   "execution_count": null,
   "metadata": {
    "scrolled": true
   },
   "outputs": [],
   "source": [
    "networks = {}\n",
    "for topic in topics:\n",
    "    print(topic, end=' ')\n",
    "    networks[topic] = wiki.Net(\n",
    "        path_graph=os.path.join(path_saved, topic + '.pickle'),\n",
    "        path_barcodes=os.path.join(path_saved, topic + '.barcode')\n",
    "    )"
   ]
  },
  {
   "cell_type": "markdown",
   "metadata": {},
   "source": [
    "# Node-years"
   ]
  },
  {
   "cell_type": "code",
   "execution_count": null,
   "metadata": {},
   "outputs": [],
   "source": [
    "for topic in topics:\n",
    "    with open(f\"{topic}.txt\", 'w') as f:\n",
    "        attributes = nx.get_node_attributes(networks[topic].graph, 'year')\n",
    "        for k, v in attributes.items():\n",
    "            if len(str(v))<4:\n",
    "                f.write(f\"{v}\\t\\t{k}\\n\")\n",
    "            else:\n",
    "                f.write(f\"{v}\\t{k}\\n\")"
   ]
  },
  {
   "cell_type": "markdown",
   "metadata": {},
   "source": [
    "# Year-phrases"
   ]
  },
  {
   "cell_type": "code",
   "execution_count": null,
   "metadata": {},
   "outputs": [],
   "source": [
    "path_base = '/Users/harangju/Developer/data/wiki/dumps/'\n",
    "name_xml = 'enwiki-20190801-pages-articles-multistream.xml.bz2'\n",
    "name_index = 'enwiki-20190801-pages-articles-multistream-index.txt.bz2'\n",
    "path_xml = path_base + name_xml\n",
    "path_index = path_base + name_index\n",
    "dump = wiki.Dump(path_xml, path_index)"
   ]
  },
  {
   "cell_type": "code",
   "execution_count": null,
   "metadata": {},
   "outputs": [],
   "source": [
    "dump.load_page('Philosophy')"
   ]
  },
  {
   "cell_type": "code",
   "execution_count": null,
   "metadata": {},
   "outputs": [],
   "source": [
    "history = wiki.Dump.get_history(dump.page)\n",
    "top = dump.page.get_sections()[0].strip_code()\n",
    "history[:100], top[:100]"
   ]
  },
  {
   "cell_type": "code",
   "execution_count": null,
   "metadata": {},
   "outputs": [],
   "source": [
    "years = wiki.Dump.filter_years(top + history)\n",
    "years"
   ]
  },
  {
   "cell_type": "code",
   "execution_count": null,
   "metadata": {},
   "outputs": [],
   "source": [
    "years, matches = wiki.Dump.filter_years(top + history, get_matches=True)\n",
    "years"
   ]
  },
  {
   "cell_type": "code",
   "execution_count": null,
   "metadata": {},
   "outputs": [],
   "source": [
    "match = next(matches)\n",
    "match, match.start(), match.end(), match"
   ]
  },
  {
   "cell_type": "code",
   "execution_count": null,
   "metadata": {},
   "outputs": [],
   "source": [
    "networks[topic].nodes"
   ]
  },
  {
   "cell_type": "code",
   "execution_count": null,
   "metadata": {},
   "outputs": [],
   "source": [
    "# np.argmin(years)\n",
    "years"
   ]
  },
  {
   "cell_type": "code",
   "execution_count": null,
   "metadata": {},
   "outputs": [],
   "source": [
    "nodes[i]"
   ]
  },
  {
   "cell_type": "code",
   "execution_count": null,
   "metadata": {},
   "outputs": [],
   "source": [
    "dump.load_page('Haploid')"
   ]
  },
  {
   "cell_type": "code",
   "execution_count": null,
   "metadata": {},
   "outputs": [],
   "source": [
    "import numpy as np\n",
    "\n",
    "num_sample = 20\n",
    "for topic in topics:\n",
    "    with open(f\"{topic}.txt\", 'w') as f:\n",
    "        np.random.seed(0)\n",
    "        nodes = networks[topic].nodes\n",
    "        idx = np.random.permutation(len(nodes))[:num_sample]\n",
    "        for i in idx:\n",
    "            page = dump.load_page(nodes[i])\n",
    "            print(page)\n",
    "            history = wiki.Dump.get_history(page)\n",
    "            top = dump.page.get_sections()[0].strip_code()\n",
    "            years, matches = wiki.Dump.filter_years(top + history, get_matches=True)\n",
    "            j = np.argmin(years)\n",
    "            match = matches[j]\n",
    "            f.write(f\"{nodes[idx]}: {page[match.start()-300:match.end()+300]}\")"
   ]
  }
 ],
 "metadata": {
  "kernelspec": {
   "display_name": "Python 3",
   "language": "python",
   "name": "python3"
  },
  "language_info": {
   "codemirror_mode": {
    "name": "ipython",
    "version": 3
   },
   "file_extension": ".py",
   "mimetype": "text/x-python",
   "name": "python",
   "nbconvert_exporter": "python",
   "pygments_lexer": "ipython3",
   "version": "3.7.10"
  },
  "toc": {
   "base_numbering": 1,
   "nav_menu": {},
   "number_sections": true,
   "sideBar": true,
   "skip_h1_title": false,
   "title_cell": "Table of Contents",
   "title_sidebar": "Contents",
   "toc_cell": false,
   "toc_position": {
    "height": "calc(100% - 180px)",
    "left": "10px",
    "top": "150px",
    "width": "165px"
   },
   "toc_section_display": true,
   "toc_window_display": true
  }
 },
 "nbformat": 4,
 "nbformat_minor": 2
}
