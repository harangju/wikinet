{
 "cells": [
  {
   "cell_type": "markdown",
   "metadata": {},
   "source": [
    "# Load networks"
   ]
  },
  {
   "cell_type": "code",
   "execution_count": 1,
   "metadata": {
    "scrolled": true
   },
   "outputs": [],
   "source": [
    "import os\n",
    "import sys\n",
    "import wikinet as wiki\n",
    "import numpy as np\n",
    "import pandas as pd\n",
    "import networkx as nx\n",
    "import scipy as sp"
   ]
  },
  {
   "cell_type": "code",
   "execution_count": 2,
   "metadata": {
    "scrolled": true
   },
   "outputs": [],
   "source": [
    "import plotly.express as px\n",
    "import plotly.graph_objects as go"
   ]
  },
  {
   "cell_type": "code",
   "execution_count": 3,
   "metadata": {
    "scrolled": true
   },
   "outputs": [],
   "source": [
    "all_topics = [\n",
    "    'anatomy', 'biochemistry', 'cognitive science', 'evolutionary biology',\n",
    "    'genetics', 'immunology', 'molecular biology', 'chemistry', 'biophysics',\n",
    "    'energy', 'optics', 'earth science', 'geology', 'meteorology',\n",
    "    'philosophy of language', 'philosophy of law', 'philosophy of mind',\n",
    "    'philosophy of science', 'economics', 'accounting', 'education',\n",
    "    'linguistics', 'law', 'psychology', 'sociology', 'electronics',\n",
    "    'software engineering', 'robotics',\n",
    "    'calculus', 'geometry', 'abstract algebra',\n",
    "    'Boolean algebra', 'commutative algebra', 'group theory', 'linear algebra',\n",
    "    'number theory', 'dynamical systems and differential equations'\n",
    "]\n",
    "topics = [\n",
    "    'biochemistry', 'cognitive science', 'evolutionary biology',\n",
    "    'genetics', 'molecular biology', 'energy', 'optics',\n",
    "    'philosophy of language', 'philosophy of law', 'philosophy of science',\n",
    "    'linguistics', 'software engineering'\n",
    "]"
   ]
  },
  {
   "cell_type": "code",
   "execution_count": 4,
   "metadata": {
    "scrolled": true
   },
   "outputs": [],
   "source": [
    "path_saved = os.path.join('/', 'Users', 'harangju', 'Developer', 'data', 'wikinet', 'pickles')"
   ]
  },
  {
   "cell_type": "code",
   "execution_count": 5,
   "metadata": {
    "scrolled": true
   },
   "outputs": [
    {
     "name": "stdout",
     "output_type": "stream",
     "text": [
      "biochemistry cognitive science evolutionary biology genetics molecular biology energy optics philosophy of language philosophy of law philosophy of science linguistics software engineering "
     ]
    }
   ],
   "source": [
    "networks = {}\n",
    "for topic in topics:\n",
    "    print(topic, end=' ')\n",
    "    networks[topic] = wiki.Net(\n",
    "        path_graph=os.path.join(path_saved, topic + '.pickle')\n",
    "    )"
   ]
  },
  {
   "cell_type": "markdown",
   "metadata": {},
   "source": [
    "# Node-years"
   ]
  },
  {
   "cell_type": "code",
   "execution_count": 6,
   "metadata": {},
   "outputs": [],
   "source": [
    "# for topic in topics:\n",
    "#     with open(f\"{topic}.txt\", 'w') as f:\n",
    "#         attributes = nx.get_node_attributes(networks[topic].graph, 'year')\n",
    "#         for k, v in attributes.items():\n",
    "#             if len(str(v))<4:\n",
    "#                 f.write(f\"{v}\\t\\t{k}\\n\")\n",
    "#             else:\n",
    "#                 f.write(f\"{v}\\t{k}\\n\")"
   ]
  },
  {
   "cell_type": "markdown",
   "metadata": {},
   "source": [
    "# Year-phrases"
   ]
  },
  {
   "cell_type": "code",
   "execution_count": 7,
   "metadata": {},
   "outputs": [],
   "source": [
    "import wikinet as wiki"
   ]
  },
  {
   "cell_type": "code",
   "execution_count": 8,
   "metadata": {},
   "outputs": [],
   "source": [
    "path_base = '/Users/harangju/Developer/data/wikinet/dump/'\n",
    "name_xml = 'enwiki-20190801-pages-articles-multistream.xml.bz2'\n",
    "name_index = 'enwiki-20190801-pages-articles-multistream-index.txt.bz2'\n",
    "path_xml = path_base + name_xml\n",
    "path_index = path_base + name_index\n",
    "dump = wiki.Dump(path_xml, path_index)"
   ]
  },
  {
   "cell_type": "code",
   "execution_count": 9,
   "metadata": {},
   "outputs": [
    {
     "name": "stdout",
     "output_type": "stream",
     "text": [
      "Dump: Loading index...\n",
      "Dump: Loaded.\n"
     ]
    },
    {
     "data": {
      "text/plain": [
       "'{{short description|Study of general and fundamental questions}}\\n{{Other uses}}\\n{{pp|small=yes}}\\n{{U'"
      ]
     },
     "execution_count": 9,
     "metadata": {},
     "output_type": "execute_result"
    }
   ],
   "source": [
    "dump.load_page('Philosophy')[:100]"
   ]
  },
  {
   "cell_type": "code",
   "execution_count": 10,
   "metadata": {},
   "outputs": [
    {
     "data": {
      "text/plain": [
       "'[[Image:MRNA-interaction.png|thumb|500px|The \"life cycle\" of an \\'\\'\\'mRNA\\'\\'\\' in a [[eukaryote|eukaryot'"
      ]
     },
     "execution_count": 10,
     "metadata": {},
     "output_type": "execute_result"
    }
   ],
   "source": [
    "dump.load_page('Messenger RNA')[:100]"
   ]
  },
  {
   "cell_type": "code",
   "execution_count": 18,
   "metadata": {
    "scrolled": true
   },
   "outputs": [
    {
     "name": "stdout",
     "output_type": "stream",
     "text": [
      "biochemistry: 418 Haploid; Redirect from 'Haploid' to 'Ploidy'.\n",
      "202 Primary structure; Redirect from 'Primary structure' to 'Biomolecular structure'.\n",
      "682 Dynorphin; 316 Nervous system; 267 Serotonin; 790 Histamine H2 receptor; 936 Phosphopeptide; 295 Kinase; 624 Intermembrane space; 981 Radioisotopic labelling; Redirect from 'Radioisotopic labelling' to 'Isotopic labeling'.\n",
      "704 Erythropoietin receptor; 75 Phospholipid; 27 Structure; 315 Synapse; 750 Structural domain; Redirect from 'Structural domain' to 'Protein domain'.\n",
      "31 Macromolecule; 828 Kallidin; 479 Vitamin D-dependent calcium-binding protein; 884 Neoplasm protein; 557 Chemical thermodynamics; 378 Atp synthase; Redirect from 'Atp synthase' to 'ATP synthase'.\n",
      "931 Peptide initiation factor; Redirect from 'Peptide initiation factor' to 'Translation (biology)'.\n",
      "279 Microbe; Redirect from 'Microbe' to 'Microorganism'.\n",
      "530 Cyclin A; 613 Concanavalin A; 311 Aminobutyric acid; 486 Calcium signaling; 395 Atrial natriuretic factor receptor; Redirect from 'Atrial natriuretic factor receptor' to 'Atrial natriuretic peptide receptor'.\n",
      "330 Phenotype; 122 Citric acid; 500 Lactic acid; 894 Tachykinin; Redirect from 'Tachykinin' to 'Tachykinin peptides'.\n",
      "553 Chemical property; 97 Competitive inhibition; 247 Immunoglobulin; Redirect from 'Immunoglobulin' to 'Antibody'.\n",
      "358 Heterocyclic compound; 627 Deuterium; 1 Chemistry; 472 Mixture; 687 Electron volt; Redirect from 'Electron volt' to 'Electronvolt'.\n",
      "264 Formaldehyde; 578 Chromosomal crossover; 1015 Somatropin; Redirect from 'Somatropin' to 'Growth hormone'.\n",
      "695 Endothelin receptor; 745 Neuropeptide Y; 462 Bombesin receptor; 1041 Transforming growth factor beta; 873 Melanocyte-stimulating hormone; 810 Vitronectin; 18 Bacteria; 14 Organism; 384 Thylakoid; 665 Oxidation number; Redirect from 'Oxidation number' to 'Oxidation state'.\n",
      "501 Urea; 983 Ras gene; Redirect from 'Ras gene' to 'Ras GTPase'.\n",
      "255 Amyloid; 1018 Src-family kinase; Redirect from 'Src-family kinase' to 'Src family kinase'.\n",
      "759 Genetic fingerprint; Redirect from 'Genetic fingerprint' to 'DNA profiling'.\n",
      "465 Nuclear localization signal; Redirect from 'Nuclear localization signal' to 'Nuclear localization sequence'.\n",
      "412 Transmembrane protein; 677 Dopamine receptor; 879 Myeloma protein; 103 Oncogene; 649 Intermediate filament; 913 Odorant receptor; Redirect from 'Odorant receptor' to 'Olfactory receptor'.\n",
      "204 Albumin; 567 Environmental chemistry; 1008 Sodium-hydrogen antiporter; Redirect from 'Sodium-hydrogen antiporter' to 'Sodium–hydrogen antiporter'.\n",
      "362 Aryl hydrocarbon receptor; 890 Sds-page; Page 'Sds-page' not in index.\n",
      "386 Flavoprotein; 452 Biosalinity; 15 Life; 434 Biodiversity; 641 Cytochrome P-450; Redirect from 'Cytochrome P-450' to 'Cytochrome P450'.\n",
      "108 Retinoblastoma protein; 522 Chromatid; 548 Heat shock protein; 175 Photophosphorylation; 533 Cell membrane transport; Redirect from 'Cell membrane transport' to 'Active transport'.\n",
      "200 Amine; 531 Cyclin B; 142 Solution; 272 N-formylmethionine; Redirect from 'N-formylmethionine' to 'N-Formylmethionine'.\n",
      "45 Nucleic acid; 859 Molecular modelling; 758 Neutral theory of molecular evolution; 294 Hydrophilic; Redirect from 'Hydrophilic' to 'Hydrophile'.\n",
      "848 Microevolution; 819 Intermediate filament protein; Redirect from 'Intermediate filament protein' to 'Intermediate filament'.\n",
      "55 Genetic engineering; 85 Nucleotide; 447 Kinesin; 842 Heterozygote; Redirect from 'Heterozygote' to 'Zygosity'.\n",
      "997 Rho factor; 359 Arrestin; 312 Ether; 451 Double helix; Redirect from 'Double helix' to 'Nucleic acid double helix'.\n",
      "652 Dactinomycin; 478 Calbindin; \n",
      "cognitive science: 10 Attention; 74 Lexicology; 66 Computational semiotics; 51 Autism; 7 Cognition; 78 Neural network; 91 Writing systems; Redirect from 'Writing systems' to 'Writing system'.\n",
      "89 Philosophy of language; 106 Metonymy; 62 Comparative method; 30 Sociolinguistics; 2 Neuroscience; 93 Speech recognition; 22 Intelligence; 43 Turing test; 107 Motor control; 24 Semantics; 73 Descriptive linguistics; Redirect from 'Descriptive linguistics' to 'Linguistic description'.\n",
      "60 Collective intelligence; 56 Cognitive ergonomics; 16 Cybernetics; 13 Jerry Fodor; 26 Pragmatics; 85 Historical-comparative linguistics; Redirect from 'Historical-comparative linguistics' to 'Historical linguistics'.\n",
      "71 Creole language; 86 Language families and languages; Redirect from 'Language families and languages' to 'Language family'.\n",
      "110 Qualia; 99 Prescription and description; Redirect from 'Prescription and description' to 'Linguistic prescription'.\n",
      "8 Language; 92 Speech synthesis; 33 Neurolinguistics; 45 Natural language understanding; Redirect from 'Natural language understanding' to 'Natural-language understanding'.\n",
      "3 Artificial intelligence; 48 Artificial life; 6 Mind; 54 Cognitive behaviour therapy; Redirect from 'Cognitive behaviour therapy' to 'Cognitive behavioral therapy'.\n",
      "114 Transformational-generative grammar; Redirect from 'Transformational-generative grammar' to 'Transformational grammar'.\n",
      "96 Stratificational linguistics; 100 Structuralism; 95 Speech processing; 90 Linguistic layers; Redirect from 'Linguistic layers' to 'Linguistics'.\n",
      "63 Comparative method (linguistics); Redirect from 'Comparative method (linguistics)' to 'Comparative method'.\n",
      "27 Phonology; 18 Biology; 11 Psychology; 59 Cognitive Science Society; 68 George Lakoff; 61 Comparative linguistics; 76 Embodied philosophy; Redirect from 'Embodied philosophy' to 'Embodied cognition'.\n",
      "50 Speech therapy; Redirect from 'Speech therapy' to 'Speech-language pathology'.\n",
      "1 Cognitive science; 109 Psychology of reasoning; 42 Cryptanalysis; 41 Human–computer interaction; 4 Philosophy; 15 Alan Turing; 17 Intelligence (trait); Redirect from 'Intelligence (trait)' to 'Intelligence'.\n",
      "52 Behavioral economics; 40 Theory of computation; 38 Computational linguistics; 5 Anthropology; 53 Cognitive psychology; 105 Metaphor; 82 Moral Politics; Redirect from 'Moral Politics' to 'Moral Politics (book)'.\n",
      "0 Linguistics; 34 Language acquisition; 28 Syntax; 55 Cognitive therapy; 35 Historical linguistics; 23 Theoretical linguistics; 31 Corpus linguistics; 75 Linguistic relativity; 57 Cognitive science of mathematics; Redirect from 'Cognitive science of mathematics' to 'Numerical cognition'.\n",
      "94 Speaker recognition; 98 Orthography; 32 Psycholinguistics; 97 Linguistics basic topics; Redirect from 'Linguistics basic topics' to 'Outline of linguistics'.\n",
      "14 Computer science; 84 Herbert A. Simon; 19 Interdisciplinary; Redirect from 'Interdisciplinary' to 'Interdisciplinarity'.\n",
      "29 Noam Chomsky; 49 Cognitive neuroscience; 112 Connotation; 113 Speech communication; 79 Where Mathematics Comes From; 69 Constructed language; 80 Ethnologue; 20 Epistemology; 108 Neurophilosophy; 72 Decipherment; 77 Enactivism; 25 Phonetics; 37 Lexicography; 81 Etymology; 101 List of linguistic topics; Redirect from 'List of linguistic topics' to 'Outline of linguistics'.\n",
      "46 Robotics; 104 Figure of speech; 39 Semiotics; 65 Morpheme; 58 Conceptual metaphor; \n",
      "evolutionary biology: 110 Coalescent theory; 97 Catagenesis (biology); 83 Signalling theory; 8 Artificial selection; 161 Evolution of mammalian auditory ossicles; 171 Evolution of the wolf; 179 Evolutionary psychology; 90 Atavism; 59 Vestigiality; 74 Microevolution; 199 Genotype-environment correlation; Redirect from 'Genotype-environment correlation' to 'Gene–environment correlation'.\n",
      "129 The Selfish Gene; 264 Hardy-weinberg principle; Page 'Hardy-weinberg principle' not in index.\n",
      "137 Experimental evolution; 206 Homologous chromosomes; Redirect from 'Homologous chromosomes' to 'Homologous chromosome'.\n",
      "15 Common descent; 245 E.b. Ford; Page 'E.b. Ford' not in index.\n"
     ]
    },
    {
     "name": "stdout",
     "output_type": "stream",
     "text": [
      "212 Paleobiology; 180 Evolutionarily stable strategy; 166 Evolution of sexual reproduction; 96 Sean B. Carroll; 45 Domestication; 218 The Major Transitions in Evolution; 7 Natural selection; 158 Evolution of insects; 233 Hermann Joseph Muller; 108 Climatic adaptation; 246 Preadaptation; 181 Evolutionary taxonomy; 76 Gene flow; 247 Quantum evolution; 125 Nothing in Biology Makes Sense Except in the Light of Evolution; 198 Genetic hitchhiking; 178 Sociobiology; 27 Species; 106 Most recent common ancestor; 207 Language; 37 Allopatric speciation; 176 Evolutionary history of plants; 20 Molecular evolution; 103 Chronospecies; 64 Abiogenesis; 160 Evolution of human intelligence; 139 Ecological genetics; 5 Alfred Russel Wallace; 22 Evolutionary developmental biology; 187 Fisher's reproductive value; Redirect from 'Fisher's reproductive value' to 'Reproductive value (population genetics)'.\n",
      "63 History of speciation; 12 Sexual selection; 153 Gene duplication; 226 Y-chromosomal Adam; 135 Landrace; 89 Trait (biological); Redirect from 'Trait (biological)' to 'Phenotypic trait'.\n",
      "196 Motoo Kimura; 55 Mendelian inheritance; 157 Evolution of the horse; 44 Evolution of the eye; 190 Inclusive fitness; 73 Population; 191 Kin selection; 188 Population dynamics; 256 Transposon; Redirect from 'Transposon' to 'Transposable element'.\n",
      "234 Mutational meltdown; 116 Coefficient of relationship; 243 Peppered moth; 118 Horizontal gene transfer; 101 Sergei Chetverikov; 18 Systematics; 241 Vertebrate paleontology; 201 Genotype-environment interaction; Redirect from 'Genotype-environment interaction' to 'Gene–environment interaction'.\n",
      "173 Evolutionary game theory; 71 Allele; 194 George C. Williams (biologist); 219 Maladaptation; 253 Social effects of evolutionary theory; 217 Life-history theory; Redirect from 'Life-history theory' to 'Life history theory'.\n",
      "33 Recapitulation theory; 92 Evidence of common descent; 111 Co-evolution; Redirect from 'Co-evolution' to 'Coevolution'.\n",
      "240 Paleobotany; 21 Genetic drift; 225 Recent African origin of modern humans; 107 Evolutionary radiation; 16 Speciation; 146 Error threshold (evolution); 75 Population genetics; 109 Genetic recombination; 126 Darwin (unit); 134 Dog breeding; 150 Evolvability; 4 Evolution; 149 Evolutionary capacitance; 61 Evolutionary medicine; 67 Fitness (biology); 52 Gradualism; 66 Micropaleontology; 26 Ernst Mayr; 221 Mass extinctions; Redirect from 'Mass extinctions' to 'Extinction event'.\n",
      "156 Paleozoology; 235 Susumu Ohno; \n",
      "genetics: 900 Interstitial region; Redirect from 'Interstitial region' to 'Extracellular fluid'.\n",
      "546 Consensus sequence; 186 Angelman syndrome; 847 Palindrome; 418 Fanconi anemia; 956 Monohybrid cross; 1062 Sex-influenced trait; Redirect from 'Sex-influenced trait' to 'Sex linkage'.\n",
      "688 Genomic sequence; Redirect from 'Genomic sequence' to 'Genome'.\n",
      "406 Dna ligase; Page 'Dna ligase' not in index.\n",
      "204 Parthenogenesis; 272 Electroporation; 937 Metaphase plate; Redirect from 'Metaphase plate' to 'Spindle apparatus'.\n",
      "596 Extranuclear inheritance; 978 Nonsense suppressor; 818 Germ-line theory; Redirect from 'Germ-line theory' to 'Germ line theory'.\n",
      "878 Idiogram; Redirect from 'Idiogram' to 'Karyotype'.\n",
      "704 Oncogenes; Redirect from 'Oncogenes' to 'Oncogene'.\n",
      "971 Neutral petite; Redirect from 'Neutral petite' to 'Petite mutation'.\n",
      "1047 Selective medium; Redirect from 'Selective medium' to 'Growth medium'.\n",
      "911 Lysogen; 602 Genetic load; 70 Nucleoside; 690 Cell line; Redirect from 'Cell line' to 'Immortalised cell line'.\n",
      "877 Identity by type; 924 Southern blotting; 1037 Dna marker; Page 'Dna marker' not in index.\n",
      "852 Homeo-domain; Redirect from 'Homeo-domain' to 'Homeobox'.\n",
      "1063 Sex-limited trait; Redirect from 'Sex-limited trait' to 'Sex-limited genes'.\n",
      "894 Inosine; 14 Molecular biology; 192 Aneuploid cell; Redirect from 'Aneuploid cell' to 'Aneuploidy'.\n",
      "295 Transcriptome; 707 Dyad symmetry; 486 Comparative genomics; 834 Heteroduplex; 27 Angiosperm; Redirect from 'Angiosperm' to 'Flowering plant'.\n",
      "1044 Dictyotene; Redirect from 'Dictyotene' to 'dictyate'.\n",
      "Page 'dictyate' not in index.\n",
      "359 Clone (genetics); 892 Rho factor; 609 Human mitochondrial genetics; 202 Spore; 966 Mutation frequency; 240 Rna splicing; Redirect from 'Rna splicing' to 'RNA splicing'.\n",
      "907 Karyokinesis; Redirect from 'Karyokinesis' to 'Mitosis'.\n",
      "224 Morphogenesis; 754 Overdominance; 826 Gynandromorph; Redirect from 'Gynandromorph' to 'Gynandromorphism'.\n",
      "686 Forensics; Redirect from 'Forensics' to 'Forensic science'.\n",
      "268 Gel electrophoresis; 1075 Suicide gene; 198 Gametophyte; 413 Congenital; Redirect from 'Congenital' to 'Birth defect'.\n",
      "249 Melanoma; 479 Cosmids; 529 Confidence limits; Redirect from 'Confidence limits' to 'Confidence interval'.\n",
      "974 Lagging strand; Redirect from 'Lagging strand' to 'DNA replication'.\n",
      "1056 Sanger sequence; Redirect from 'Sanger sequence' to 'Sanger sequencing'.\n",
      "316 Sex-determination system; 571 Lysogenic; Redirect from 'Lysogenic' to 'Lysogenic cycle'.\n",
      "436 Cdna library; Redirect from 'Cdna library' to 'CDNA library'.\n",
      "397 Blastoderm; 175 Sex chromosome; 159 Muller's morphs; 912 Leader sequence (mRNA); Redirect from 'Leader sequence (mRNA)' to 'Five prime untranslated region'.\n",
      "968 Negative control; 31 Organelle; 819 Germinal mutation; Redirect from 'Germinal mutation' to 'Germline mutation'.\n",
      "613 Deletion map; Redirect from 'Deletion map' to 'Deletion mapping'.\n",
      "311 Ovum; Redirect from 'Ovum' to 'Egg cell'.\n",
      "859 Homozygous gene pair; Redirect from 'Homozygous gene pair' to 'Zygosity'.\n",
      "614 Deletion mapping; 1021 Spermatid; 471 Fertility factor (bacteria); 75 Genome; 785 Mating type; 776 Fragile X syndrome; 34 Acentric chromosome; Redirect from 'Acentric chromosome' to 'Acentric fragment'.\n",
      "356 Megabase; Redirect from 'Megabase' to 'Base_pair'.\n",
      "Page 'Base_pair' not in index.\n",
      "533 Gene mapping; 142 Glutamine; 351 Ribonucleic acid; Redirect from 'Ribonucleic acid' to 'RNA'.\n",
      "700 Template strand; Redirect from 'Template strand' to 'Transcription (biology)'.\n",
      "1076 Supercoiling; Redirect from 'Supercoiling' to 'DNA supercoil'.\n",
      "820 Zinc finger; 828 Haplodiploidy; 746 Haplotype; 687 Sanger sequencing; 842 Homothallic; Redirect from 'Homothallic' to 'Homothallism'.\n",
      "836 Heterogametic sex; 865 Hybrid DNA; Redirect from 'Hybrid DNA' to 'Nucleic acid thermodynamics'.\n",
      "342 Transduction (genetics); 481 Polypeptide; Redirect from 'Polypeptide' to 'Peptide'.\n",
      "196 Endosperm; 722 Pseudoautosomal region; 1110 Zinc-finger protein; Redirect from 'Zinc-finger protein' to 'Zinc finger'.\n",
      "85 P53; 477 Transfection; 733 Exogenous DNA; 870 Myeloma; 18 Species; \n",
      "molecular biology: 329 N terminus; Redirect from 'N terminus' to 'N-terminus'.\n",
      "318 Restriction fragments; Redirect from 'Restriction fragments' to 'Restriction fragment'.\n",
      "317 Nuclear run-on; 65 Messenger RNA; 59 Chromosome; 287 Human immunodeficiency virus; Redirect from 'Human immunodeficiency virus' to 'HIV'.\n",
      "212 Operon; 60 Diploid; Redirect from 'Diploid' to 'Ploidy'.\n",
      "394 Zinc finger; 324 Pbr322; Page 'Pbr322' not in index.\n",
      "375 Hnrna; Page 'Hnrna' not in index.\n",
      "74 Taq polymerase; 76 Amplicon; 106 Ataxia-telangiectasia; Redirect from 'Ataxia-telangiectasia' to 'Ataxia–telangiectasia'.\n",
      "215 Cosmid; 12 Base pair; 132 Polymorphism (biology); 264 Fluorescence in situ hybridization; 268 Fusion protein; 167 Melanoma; 168 Canonical sequence; Redirect from 'Canonical sequence' to 'Consensus sequence'.\n",
      "150 Sticky and blunt ends; 90 Complementarity (molecular biology); 171 Carboxyl terminus; Redirect from 'Carboxyl terminus' to 'C-terminus'.\n",
      "282 Highly conserved sequence; Redirect from 'Highly conserved sequence' to 'Conserved sequence'.\n",
      "37 Histone; 339 Phosphatase, alkaline; Redirect from 'Phosphatase, alkaline' to 'Alkaline phosphatase'.\n",
      "113 Kinase; 135 Polyacrylamide gel; Redirect from 'Polyacrylamide gel' to 'Polyacrylamide gel electrophoresis'.\n",
      "102 Epitope; 144 Down syndrome; 78 Animal model; Redirect from 'Animal model' to 'Model organism'.\n",
      "330 Nested PCR; Redirect from 'Nested PCR' to 'Nested polymerase chain reaction'.\n",
      "216 Origin of replication; 233 Stem-loop; 309 Lipofectin; Redirect from 'Lipofectin' to 'Transfection'.\n",
      "54 Autosomal dominant; Redirect from 'Autosomal dominant' to 'Dominance (genetics)'.\n"
     ]
    },
    {
     "name": "stdout",
     "output_type": "stream",
     "text": [
      "260 Silent mutation; 253 Screening (medicine); 6 Transcription (genetics); Redirect from 'Transcription (genetics)' to 'Transcription (biology)'.\n",
      "1 Molecular biology; 293 Immunoprecipitation; 278 Helix-loop-helix; Redirect from 'Helix-loop-helix' to 'Basic helix-loop-helix'.\n",
      "255 Electroporation; 204 Congenital; Redirect from 'Congenital' to 'Birth defect'.\n",
      "153 Sickle-cell disease; Redirect from 'Sickle-cell disease' to 'Sickle cell disease'.\n",
      "190 Chromosomal translocation; 383 Suicide gene; 246 Dnase; Redirect from 'Dnase' to 'Deoxyribonuclease'.\n",
      "164 Side chain; 235 Retrovirus; 107 Leukemia; 52 Restriction enzyme; 10 Sds-page; Page 'Sds-page' not in index.\n",
      "26 Cytosine; 45 Gene therapy; 232 Pseudogene; 223 Exonuclease; 249 Upstream and downstream (DNA); 194 Stop codon; 345 Post-translational regulation; 289 Nucleic acid hybridization; 15 Western blot; 158 Brca2; Redirect from 'Brca2' to 'BRCA2'.\n",
      "259 Evolutionary clock; Redirect from 'Evolutionary clock' to 'Molecular clock'.\n",
      "5 5' flanking region; 286 Gene transfer; Redirect from 'Gene transfer' to 'Horizontal_gene_transfer'.\n",
      "Page 'Horizontal_gene_transfer' not in index.\n",
      "308 Leucine zipper; 7 Acrylamide gels; Redirect from 'Acrylamide gels' to 'Polyacrylamide gel electrophoresis'.\n",
      "328 Multiple endocrine neoplasia, type 1; Redirect from 'Multiple endocrine neoplasia, type 1' to 'Multiple endocrine neoplasia type 1'.\n",
      "68 Start codon; 20 Northern blot; 100 Reverse transcriptase; 389 Transposition (genetics); Redirect from 'Transposition (genetics)' to 'Transposable element'.\n",
      "276 Golgi apparatus; 140 Kilobase; Redirect from 'Kilobase' to 'Base_pair'.\n",
      "Page 'Base_pair' not in index.\n",
      "142 Gene expression; 306 Laser capture microdissection; 146 Blotting; Redirect from 'Blotting' to 'Blot (biology)'.\n",
      "64 Amino terminus; Redirect from 'Amino terminus' to 'N-terminus'.\n",
      "55 Alagille syndrome; 343 Post-transcriptional regulation; 219 Nucleoside; 366 Sequence; 368 Sequence-tagged site; 319 Monoclonal antibody; 301 Klenow fragment; 56 Alkaline lysis; 8 Electrophoresis; 191 Carcinoma in situ; 141 Binding site; 332 Nick (DNA); 296 Insertion sequence; 378 Sub-cloning; Redirect from 'Sub-cloning' to 'Subcloning'.\n",
      "239 Direct repeat; 63 Heterozygous; Redirect from 'Heterozygous' to 'Zygosity'.\n",
      "245 Repetitive DNA; 154 Hematopoietic stem cell; 311 M13 phage; Redirect from 'M13 phage' to 'M13 bacteriophage'.\n",
      "81 Junk DNA; Redirect from 'Junk DNA' to 'Non-coding DNA'.\n",
      "\n",
      "energy: 48 Energy density; 94 Intermittent energy source; Redirect from 'Intermittent energy source' to 'Variable renewable energy'.\n",
      "95 Tidal power; 8 Nuclear fusion; 97 Primary energy; 22 Dark energy; 7 Solar energy; 10 Hydroelectricity; 45 Energy conversion efficiency; 89 Mechanical energy; 33 Work (physics); 50 Energy-depth relationship in a rectangular channel; Redirect from 'Energy-depth relationship in a rectangular channel' to 'Energy–depth relationship in a rectangular channel'.\n",
      "2 Marine energy; 60 Energy field disturbance; 118 Negative energy; 74 Energy security; 30 Electric potential energy; 43 Energy carrier; 111 Thermodynamic free energy; 76 E-statistics; Redirect from 'E-statistics' to 'Energy distance'.\n",
      "63 Osmotic power; 59 Energy medicine; 16 Breeder reactor; 24 Vacuum energy; 110 Surface energy; 13 Quasar; 54 Energy drink; 93 Interaction energy; 26 Direct Energy; 68 Energy management software; 51 Internal energy; 113 Turbulence kinetic energy; 107 Seismic scale; Redirect from 'Seismic scale' to 'Seismic magnitude scales'.\n",
      "61 Energy flow (ecology); 3 Alternative energy; 96 Solar thermal energy; 6 Nuclear power; 75 Energy Slave; Redirect from 'Energy Slave' to 'Energy slave'.\n",
      "100 Photosynthesis; 91 Gravitational potential; 104 Energy accounting; 84 Energy transfer; Redirect from 'Energy transfer' to 'Energy'.\n",
      "90 Gravitational energy; 66 Energy level; 27 Dyson's sphere; Redirect from 'Dyson's sphere' to 'Dyson sphere'.\n",
      "18 Characteristic energy; 99 Orders of magnitude (energy); 11 Energy accidents; 62 Energy harvesting; 71 Energy–momentum relation; 56 Energy engineering; 98 Magnetic confinement fusion; 86 E-statistic; Redirect from 'E-statistic' to 'Energy distance'.\n",
      "1 Activation energy; 73 Energy quality; 42 Fuel; 41 Energy being; 4 Energy; 15 Nuclear reactor; 17 Specific energy; 52 Energy development; 40 Entropy; 38 Energy applications of nanotechnology; 5 American Museum of Science and Energy; 53 Energy gel; 109 Specific kinetic energy; 114 Units of energy; 0 Potential energy; 34 Mass–energy equivalence; 28 Ecological energetics; Redirect from 'Ecological energetics' to 'Energy flow (ecology)'.\n",
      "55 Energy-efficient landscaping; 35 Renewable energy; 23 Zero-point energy; 31 Encircled energy; 78 Energy Storage Challenge; 57 Energy (esotericism); 92 History of energy; 102 Embodied energy; 32 Energy transformation; 101 Power (physics); 14 Black hole; 85 Equipartition theorem; 19 Specific orbital energy; 29 Electric Bond and Share Company; 49 Enthalpy; 82 Energy value of coal; 116 Zero-energy building; 117 Zero-energy universe; 79 Latent heat; 69 Energy–maneuverability theory; 80 Energy system; 20 Conservation of energy; 112 Threshold energy; 72 Energy monitoring and targeting; 77 Energy storage; 25 Decay energy; 37 Energy amplifier; 81 Energy technology; 105 Qi; 46 Energy flux; \n",
      "optics: 6 International Commission on Illumination; 52 Interference (wave propagation); Redirect from 'Interference (wave propagation)' to 'Wave interference'.\n",
      "259 Fresnel reflection; Redirect from 'Fresnel reflection' to 'Fresnel equations'.\n",
      "45 Photoelectric effect; 214 Dual polarisation interferometry; Redirect from 'Dual polarisation interferometry' to 'Dual-polarization interferometry'.\n",
      "212 Pleochroism; 150 Brewster's angle; 255 Quantum optics; 92 Laser pumping; 90 Brillouin scattering; 333 Prime lens; 68 Abbe sine condition; 228 Photonic crystal; 134 Avalanche photodiode; 215 Effect of sun angle on climate; Redirect from 'Effect of sun angle on climate' to 'Effect of Sun angle on climate'.\n",
      "133 Auroral light; Redirect from 'Auroral light' to 'Aurora'.\n",
      "135 Optical fiber; 246 Polaroid (polarizer); 351 Haze (optics); 239 Fiber optics; Redirect from 'Fiber optics' to 'Optical fiber'.\n",
      "208 Optical isotropy; Redirect from 'Optical isotropy' to 'isotropy'.\n",
      "Page 'isotropy' not in index.\n",
      "317 Zodiacal light; 37 Radiometry; 298 Microphotonics; 196 Dichroic filter; 26 Microscope; 15 Optics; 136 Aventurescence; 78 Numerical aperture; 253 Fraunhofer diffraction; 64 Abbe number; 60 Triangular prism (optics); Redirect from 'Triangular prism (optics)' to 'Dispersive prism'.\n",
      "54 Kerr effect; 116 Thin-film optics; 55 Snell's law; 102 Focus (optics); 221 Entrance pupil; 199 Dichromatic reflectance model; 224 Zeeman effect; 20 Telescope; 282 Kerr cell; 89 Q-switching; 263 Gegenschein; 225 Optical path length; 114 Optical coating; 122 Aspheric lens; 103 Circle of confusion; 275 List of indices of refraction; Redirect from 'List of indices of refraction' to 'List of refractive indices'.\n",
      "206 Fresnel equations; 346 Willebrord Snell; Redirect from 'Willebrord Snell' to 'Willebrord Snellius'.\n",
      "230 Excimer laser; 175 Holography; 294 Luminosity; 7 Wavelength; 65 Transparency (optics); Redirect from 'Transparency (optics)' to 'Transparency and translucency'.\n",
      "247 Stereoscopy; 245 Optical path; 260 Fresnel zone; 76 Tilt (optics); 59 Luminiferous aether; 100 Airy disk; 132 Aura (optics); 56 Refractive index; 113 Exit pupil; 146 Porro prism; 200 Differential group delay; 179 Optical spectrum; Redirect from 'Optical spectrum' to 'Visible spectrum'.\n",
      "106 Angle of incidence (optics); 191 Crystal optics; 63 Lightning; 120 Phase (waves); 341 Brewster window; Redirect from 'Brewster window' to 'Brewster's angle'.\n",
      "306 Nicol prism; 74 Chromatic aberration; 140 Photographic lens; Redirect from 'Photographic lens' to 'Camera lens'.\n",
      "21 Optical phenomenon; Redirect from 'Optical phenomenon' to 'Optical phenomena'.\n",
      "141 Optical axis; 269 Haidinger's brush; 49 Thermal radiation; 156 Camera lucida; 295 Lux; 226 Waveguide; 322 Optical window; 164 Catoptrics; 101 Camera lens; 22 Rainbow; 340 Radial polarisation; Redirect from 'Radial polarisation' to 'Radial polarization'.\n"
     ]
    },
    {
     "name": "stdout",
     "output_type": "stream",
     "text": [
      "309 Off-axis optical system; 142 Zoom lens; 258 Physical optics; 66 Abbe prism; 229 Optical waveguide; Redirect from 'Optical waveguide' to 'Waveguide (optics)'.\n",
      "12 X-ray; 307 Polarimeter; 254 Image processing; Redirect from 'Image processing' to 'digital image processing'.\n",
      "320 Ray transfer matrix analysis; 330 Pincushion distortion; Redirect from 'Pincushion distortion' to 'Distortion (optics)'.\n",
      "17 Photodiode; 170 Chrominance; 124 Collimated light; Redirect from 'Collimated light' to 'Collimated beam'.\n",
      "\n",
      "philosophy of language: 222 Universal language; 101 Symbol; 214 Radical translation; 191 Marilyn Frye; 137 Friedrich Waismann; 229 Unilalianism; 149 Implicature; 106 Proper name (philosophy); 145 Principle of compositionality; 92 James F. Conant; 138 Function and Concept; 104 Ostensive definition; 136 Frege's Puzzle; Redirect from 'Frege's Puzzle' to 'Frege's puzzles'.\n",
      "157 Jacques Bouveresse; 107 Mediated reference theory; 8 Meaning (philosophy of language); 71 Definition; 213 Plato's Problem; 126 Enumerative definition; 5 Vienna Circle; 182 F. H. Bradley; 44 Applicative Universal Grammar; Redirect from 'Applicative Universal Grammar' to 'Applicative universal grammar'.\n",
      "159 Jonathan Bennett (philosopher); 97 Gilbert Ryle; 125 Empty name; 116 Swampman; 37 Indeterminacy of translation; 171 Linguistics and Philosophy; 181 Max Black; 221 Social semiotics; 12 Semantic externalism; 176 Jody Azzouni; 152 Indexicality; 217 Scalar implicature; 89 Pragmatics; 146 Psychologism; 215 Relevance theory; 18 Analytic-synthetic distinction; Redirect from 'Analytic-synthetic distinction' to 'Analytic–synthetic distinction'.\n",
      "15 Language, Truth, and Logic; 55 Linguistic turn; 7 Willard Van Orman Quine; 186 William Crathorn; 169 Linguistic determinism; 155 Inferential role semantics; 150 Indeterminacy (philosophy); 168 Categorization; 90 Cora Diamond; 75 Cognitive synonymy; 33 Paul Boghossian; 123 Hans Kamp; 63 On Denoting; 210 Persuasive definition; 154 Indirect self-reference; 124 Duns Scotus; 204 Ontological commitment; 173 List of philosophers of language; 16 George Orwell; 83 Context principle; 64 Artificial intelligence; 45 Sebastian Shaumyan; 226 The Naturalization of Intentionality; Redirect from 'The Naturalization of Intentionality' to 'Naturalization of intentionality'.\n",
      "76 Denotation; 22 Meaning (linguistics); 109 Speech act; 111 Use–mention distinction; 4 Tractatus Logico-Philosophicus; 190 S. Morris Engel; 61 Theory of descriptions; 110 Direction of fit; 52 Avrum Stroll; 66 Carl Gustav Hempel; 26 Sense and reference; 74 Claude Lévi-Strauss; 96 David Kellogg Lewis; Redirect from 'David Kellogg Lewis' to 'David Lewis (philosopher)'.\n",
      "208 Performative contradiction; 40 Anaphora (linguistics); 13 Adolph Stöhr; 3 Ludwig Wittgenstein; 130 Family resemblance; 24 Vagueness; 30 Saul Kripke; 206 Operational definition; 60 Round square copula; 56 Descriptivist theory of names; 158 John Etchemendy; 108 Philosophical Investigations; 19 Private language argument; 202 Non-rigid designator; 122 Gareth Evans (philosopher); 54 Berlin Circle; 188 William C. Dowling; 80 Concept; 51 European Summer School in Logic, Language and Information; 205 Theoretical definition; 161 Kit Fine; 162 Language-game; Redirect from 'Language-game' to 'Language game (philosophy)'.\n",
      "86 Contrast theory of meaning; 153 Self-reference; 234 Word sense; 166 Precising definition; \n",
      "philosophy of law: 7 John Rawls; 24 Basic norm; 27 Carl Schmitt; 119 Oliver Wendell Holmes, Jr.; Redirect from 'Oliver Wendell Holmes, Jr.' to 'Oliver Wendell Holmes Jr.'.\n",
      "142 Theodor Sternberg; 51 Eye for an eye; 43 Dualism (law); Redirect from 'Dualism (law)' to 'Monism and dualism in international law'.\n",
      "22 Arthur Linton Corbin; 112 Monopoly on violence; 26 Carl Joachim Friedrich; 40 Strict constructionism; 78 Imperium; 130 Political jurisprudence; 62 Geojurisprudence; 71 Tony Honoré; 91 Law and Gospel; 16 Interpretivism (legal); 54 Legal humanists; 98 Law of Christ; 8 American Society for Political and Legal Philosophy; 89 Interregnum; 37 Critical race theory; 116 New legal realism; 84 Monarchomachs; 144 Earth jurisprudence; 33 Charles de Secondat, baron de Montesquieu; Redirect from 'Charles de Secondat, baron de Montesquieu' to 'Montesquieu'.\n",
      "143 Underdeterminacy (law); 90 Supersessionism; 83 Justice; 105 Legal process (jurisprudence); 76 Rechtsstaat; 18 Ronald Dworkin; 45 Hugo Grotius; 50 Retributive justice; 44 Duncan Kennedy (legal philosopher); 2 Analytical jurisprudence; 63 Hans Köchler; 10 Jeremy Bentham; 131 Political naturalism; 107 Libertarian theories of law; 59 Rule of law; 110 Lorenzo Peña; 61 Legal science; 73 State of emergency; 122 Prediction theory of law; 137 Robert Alexy; 114 Natural justice; 97 Law in action; 94 Letter and spirit of the law; 60 Fritz Berolzheimer; 30 Georg Wilhelm Friedrich Hegel; 56 Friedrich von Hayek; Redirect from 'Friedrich von Hayek' to 'Friedrich Hayek'.\n",
      "85 Juan de Mariana; 129 Philosophy of copyright; 124 Original meaning; 118 Nicolas Barnaud; 92 New Covenant; 123 Scepticism in law; 48 Torture; 140 Positivism; 100 Legal Education and the Reproduction of Hierarchy; 13 Legalism (theology); 66 International Association for Philosophy of Law and Social Philosophy; Redirect from 'International Association for Philosophy of Law and Social Philosophy' to 'International Association for the Philosophy of Law and Social Philosophy'.\n",
      "102 Legal moralism; 86 Julius Binder; 126 Pandectists; 15 António Castanheira Neves; 52 Labor theory of property; 3 Richard Posner; 120 Law and economics; 128 Philippe de Mornay; 6 Alf Ross; 68 John Austin (legal philosopher); 133 Freedom of contract; 12 Legal positivism; 93 Biblical law in Christianity; Redirect from 'Biblical law in Christianity' to 'Biblical law'.\n",
      "111 Manuel de Lardizábal y Uribe; 95 Law and literature; 46 Emerich de Vattel; Redirect from 'Emerich de Vattel' to 'Emer de Vattel'.\n",
      "11 Legal formalism; 101 Postglossator; 106 Leon Petrazycki; Redirect from 'Leon Petrazycki' to 'Leon Petrażycki'.\n",
      "41 Divine command theory; 108 Lon L. Fuller; 1 Jurisprudence; 104 Positive law; 135 Roberto Mangabeira Unger; 42 Legal pluralism; 4 A Failure of Capitalism; 121 Zechariah Chafee; 17 Norm (philosophy); 38 Decisionism; 5 Legal realism; 53 First possession theory of property; 139 The Case of the Speluncean Explorers; 96 Law as integrity; 0 Natural law; 34 John Locke; 28 Thomas Hobbes; 55 François Hotman; \n",
      "philosophy of science: 6 Philosophy of biology; 140 Mechanism (philosophy); 302 Philosophy of thermal and statistical physics; 220 Gustav Bergmann; 90 Rudolf Carnap; 229 Multiple discovery; 114 Falsifiability; 60 Atomism; 37 Positivism; 296 Philosophical interpretation of classical physics; 26 Hans Reichenbach; 286 Philosophy of Science Association; 234 Sense data; 287 Newtonianism; 136 Quantum indeterminacy; 213 Genidentity; 135 Natural selection; 282 Luddite; 65 Mario Bunge; 167 Deterministic system (philosophy); 199 Scientific revolution; Redirect from 'Scientific revolution' to 'Scientific Revolution'.\n",
      "304 Ptolemy; 45 Alison Wylie; 235 History of evolutionary thought; 233 John Worrall (philosopher); 176 Émile Meyerson; 76 Philosophy of artificial intelligence; 78 Hossein Nasr; 15 Philosophy of space and time; 100 Boris Hessen; 351 Wesley C. Salmon; 126 Popper's experiment; 52 Supervenience; 55 Empiricism; 54 Ernest Nagel; 353 Wolfgang Stegmüller; 250 Uncertainty principle; 92 Hilary Putnam; 204 Friedrich von Hayek; Redirect from 'Friedrich von Hayek' to 'Friedrich Hayek'.\n",
      "113 Claus Emmeche; 20 A New Model of the Universe; Redirect from 'A New Model of the Universe' to 'P. D. Ouspensky'.\n"
     ]
    },
    {
     "name": "stdout",
     "output_type": "stream",
     "text": [
      "219 Greedy reductionism; 266 Pessimistic induction; 206 Friedrich Wilhelm Joseph Schelling; 230 Heroic theory of invention and scientific development; 298 Philosophy of computer science; 106 Philip Kitcher; 68 Antiscience; 74 Scientific theory; 158 Game theory; 270 Max Bense; 205 Friedrich Waismann; 179 Inductive reasoning; 212 Time; 7 Philosophy of physics; 64 Internalism and externalism; 214 Geoffrey Hellman; 159 Decision theory; 263 Joseph Henry Woodger; 226 Henry Moyes; 59 Causality; 101 C. D. Broad; 134 Niels Bohr; 56 Uniformitarianism; 116 Perception; 246 Information ethics; 186 Ernst W. Mayr; Redirect from 'Ernst W. Mayr' to 'Ernst Mayr'.\n",
      "164 Determinism; 156 David Stenhouse; 196 Fatalism; 63 Philosophy of mathematics; 299 Philosophy of economics; Redirect from 'Philosophy of economics' to 'Philosophy and economics'.\n",
      "247 Philosophy of information; 310 Quantity; 338 Neuroethics; 142 Conservation biology; 21 Artificial intelligence; 315 Relationship between religion and science; 141 Species; 49 Spacetime; 311 Stephen Toulmin; 345 The Value of Science; 269 Mauricio Suarez; 181 Empirical research; 260 Intentionality; 102 Werner Heisenberg; 22 Abductive reasoning; 122 Theory; 89 Bernard d'Espagnat; 144 Construct (philosophy of science); Redirect from 'Construct (philosophy of science)' to 'Construct (philosophy)'.\n",
      "132 Inductivism; 66 Explanatory power; 261 Jordi Pigem; 12 Karl Popper; 120 Confirmation holism; 153 David Hull; 289 Norman Swartz; 275 Michel Bitbol; 17 Philosophy of psychology; 231 Quantum logic; \n",
      "linguistics: 329 Guttural consonant; Redirect from 'Guttural consonant' to 'Guttural'.\n",
      "318 Meaning (linguistic); Redirect from 'Meaning (linguistic)' to 'Meaning (linguistics)'.\n",
      "317 Function word; 65 Grammatical case; 59 Syllable; 287 Derivation (linguistics); Redirect from 'Derivation (linguistics)' to 'Morphological derivation'.\n",
      "212 Copula (linguistics); 60 Tone (linguistics); 394 Will (verb); Redirect from 'Will (verb)' to 'Shall and will'.\n",
      "324 Optimality theory; Redirect from 'Optimality theory' to 'Optimality Theory'.\n",
      "375 Semantic class; 74 Language families and languages; Redirect from 'Language families and languages' to 'Language family'.\n",
      "76 International Phonetic Alphabet; 106 Decipherment; 215 Subject–verb–object; 12 Syntax; 132 Palatal consonant; 264 Circumflex; 268 Cognate; 167 Abbreviation; 168 Initialism; Redirect from 'Initialism' to 'Acronym'.\n",
      "150 List of linguists; 90 Standard language; 171 Affix; 282 Cranberry morpheme; 37 Sentence (linguistics); 339 Implication (pragmatics); Redirect from 'Implication (pragmatics)' to 'Implicature'.\n",
      "113 Articulatory phonetics; 135 Phone (phonetics); 102 Speech recognition; 144 Slack voice; 78 Ideogram; 330 Heaps' law; 216 Verb; 233 Animacy; 309 Etymologist; Redirect from 'Etymologist' to 'Etymology'.\n",
      "54 Inflection; 260 Chiasmus; 253 Capitonym; 6 Truth condition; 1 Linguistics; 293 Sociolect; 278 Conjunct; 255 Participle; 204 Adjunct (grammar); 153 Ethnologue; 190 Telicity; 383 Supine; 246 Auxiliary verb; 164 Tongue-twister; 235 Past tense; 107 Language attrition; 52 History of linguistics; 10 Phonology; 26 Translation; 45 Rhetoric; 232 Anaphora (linguistics); 223 Fusional language; 249 Breve; 194 Pronunciation; 345 Instructive case; 289 X-bar theory; 15 Sociolinguistics; 158 Linguistics basic topics; Redirect from 'Linguistics basic topics' to 'Outline of linguistics'.\n",
      "259 Cedilla; 5 Phonetics; 286 Defective verb; 308 Essive case; 7 Pragmatics; 328 Grimm's law; 68 Word; 20 Language acquisition; 100 Natural language processing; 389 Unsolved problems in linguistics; Redirect from 'Unsolved problems in linguistics' to 'List of unsolved problems in linguistics'.\n",
      "276 Comparative; 140 Retroflex consonant; 142 Sampa; 306 Endangered language; 146 Tonal language; Redirect from 'Tonal language' to 'Tone (linguistics)'.\n",
      "64 Grammatical gender; 55 Declension; 343 Verb phrase; 219 Grammatical particle; 366 Principles of interpretation; Redirect from 'Principles of interpretation' to 'Outline of principles of interpretation'.\n",
      "368 Translative case; 319 Open class word; Redirect from 'Open class word' to 'Part of speech'.\n",
      "301 Double acute accent; 56 Phoneme; 8 Grammar; 191 Diacritic; 141 Rounded vowel; Redirect from 'Rounded vowel' to 'Roundedness'.\n",
      "332 Glottochronology; 296 Onomasiology; 378 The sound pattern of English; Redirect from 'The sound pattern of English' to 'The Sound Pattern of English'.\n",
      "239 Dative case; 63 Grammatical number; 245 Augment (Bantu languages); 154 Formal language; 311 Suppletion; 81 Philosophy of language; \n",
      "software engineering: 130 Filename extension; 83 Functional programming; 158 Microcode; 184 Object database; 76 Procedural programming; 171 Knowledge management; 134 Forth (programming language); 74 Boolean logic; Redirect from 'Boolean logic' to 'Boolean algebra'.\n",
      "208 Second-system effect; 169 Computer multitasking; 144 Game tester; Redirect from 'Game tester' to 'Game testing'.\n",
      "97 Object code; 64 Java Modeling Language; 8 Object-oriented programming; 153 Information technology engineering; Redirect from 'Information technology engineering' to 'Information engineering'.\n",
      "188 Parallax scrolling; 141 Scripting language; 5 2d computer graphics; Redirect from '2d computer graphics' to '2D computer graphics'.\n",
      "44 Proprietary software; 207 Software bloat; 191 Program specification; Redirect from 'Program specification' to 'Formal specification'.\n",
      "143 Level designer; Redirect from 'Level designer' to 'Level design'.\n",
      "168 Kernel (computer science); Redirect from 'Kernel (computer science)' to 'Kernel (operating system)'.\n",
      "176 Medical informatics; Redirect from 'Medical informatics' to 'Health informatics'.\n",
      "108 Database; 63 Static code analysis; Redirect from 'Static code analysis' to 'Static program analysis'.\n",
      "198 Software maintenance; 37 Processor register; 12 String (computer science); 122 Eprom; Redirect from 'Eprom' to 'EPROM'.\n",
      "162 Intermediate language; Redirect from 'Intermediate language' to 'Intermediate representation'.\n",
      "135 Reflection (computer science); Redirect from 'Reflection (computer science)' to 'Reflection (computer programming)'.\n",
      "106 Cyclomatic complexity; 55 Forward compatibility; 154 Information technology; 18 Computer-aided manufacturing; 15 Algorithm; 150 Linux; 7 3d computer graphics; Redirect from '3d computer graphics' to '3D computer graphics'.\n",
      "96 Software metric; 173 List of programming languages; 205 Software configuration management; 145 Regression testing; 107 Relational database; 92 Code coverage; 71 Open-source software; 33 Structured programming; 213 Capability Maturity Model; 137 Basic; 202 Real-time operating system; 101 Computer model; Redirect from 'Computer model' to 'Computer simulation'.\n",
      "179 Ontology (computer science); Redirect from 'Ontology (computer science)' to 'Ontology (information science)'.\n",
      "190 Post-object programming; Redirect from 'Post-object programming' to 'Aspect-oriented programming'.\n",
      "75 Business software; 16 Computer file; 146 Release to manufacturing; Redirect from 'Release to manufacturing' to 'Software_release_life_cycle'.\n",
      "Page 'Software_release_life_cycle' not in index.\n",
      "109 Dead code; 160 Interactive programming; 200 Query optimizer; Redirect from 'Query optimizer' to 'Query optimization'.\n",
      "22 Compiler; 149 Gtk+; Redirect from 'Gtk+' to 'GTK'.\n",
      "90 Decision table; 45 Artificial intelligence; 157 Java virtual machine; 4 Computer; 110 Configuration management; 61 Invariant (computer science); 52 Unix; 66 Theory of computation; 26 C++; 166 Iterative development; Redirect from 'Iterative development' to 'Iterative and incremental development'.\n",
      "40 Agile software development; 13 Microsoft Windows; 126 Expert system; 89 Mainframe computer; 24 Computation; 30 Multi-paradigm programming language; Redirect from 'Multi-paradigm programming language' to 'Programming paradigm'.\n",
      "123 Eeprom; Redirect from 'Eeprom' to 'EEPROM'.\n",
      "60 Assertion (computing); Redirect from 'Assertion (computing)' to 'Assertion (software development)'.\n",
      "56 Programming paradigm; 124 Firmware; 104 Machine language; Redirect from 'Machine language' to 'Machine code'.\n",
      "19 Abstract syntax tree; 170 Source lines of code; 118 Disk image; 54 Backward compatibility; 182 Xerox PARC; Redirect from 'Xerox PARC' to 'PARC (company)'.\n"
     ]
    },
    {
     "name": "stdout",
     "output_type": "stream",
     "text": [
      "80 Bcpl; Page 'Bcpl' not in index.\n",
      "51 Operating system; 111 Design pattern (computer science); Redirect from 'Design pattern (computer science)' to 'Software design pattern'.\n",
      "156 Instruction set; Redirect from 'Instruction set' to 'Instruction set architecture'.\n",
      "197 Systems design; 86 Declarative programming; 138 Numerical analysis; 129 Iso 9660; Page 'Iso 9660' not in index.\n",
      "161 Interface description language; 116 Disassembler; 41 Antipattern; Redirect from 'Antipattern' to 'Anti-pattern'.\n",
      "14 Video game; 27 Java (programming language); \n"
     ]
    }
   ],
   "source": [
    "import numpy as np\n",
    "\n",
    "num_sample = 100\n",
    "for topic in topics:\n",
    "    print(f\"{topic}:\", end=' ')\n",
    "    with open(f\"{topic}.txt\", 'w') as f:\n",
    "        np.random.seed(0)\n",
    "        print(topic)\n",
    "        nodes = networks[topic].nodes\n",
    "        idx = np.random.permutation(len(nodes))\n",
    "        idx = idx[:num_sample] if len(nodes)>num_sample else idx\n",
    "        for i in idx:\n",
    "            print(f\"{i} {nodes[i]}\", end='; ')\n",
    "            page = dump.load_page(nodes[i])\n",
    "            if page:\n",
    "                f.write(f\"{nodes[i]}: \")\n",
    "            else:\n",
    "                continue\n",
    "            history = wiki.Dump.get_history(page)\n",
    "            top = dump.page.get_sections()[0].strip_code()\n",
    "            years, matches = wiki.Dump.filter_years(top + history, get_matches=True)\n",
    "            if len(years)>0:\n",
    "                j = np.argmin(years)\n",
    "                match = matches[j]\n",
    "                string = (top + history)[match.start()-140:match.end()+140]\n",
    "                string = string.replace('\\n', ' ')\n",
    "                f.write(f\"\\n{string}\\n\\n\")\n",
    "            else:\n",
    "                f.write(f\"none\\n\\n\")\n",
    "    print()"
   ]
  },
  {
   "cell_type": "code",
   "execution_count": null,
   "metadata": {},
   "outputs": [],
   "source": []
  }
 ],
 "metadata": {
  "kernelspec": {
   "display_name": "Python 3",
   "language": "python",
   "name": "python3"
  },
  "language_info": {
   "codemirror_mode": {
    "name": "ipython",
    "version": 3
   },
   "file_extension": ".py",
   "mimetype": "text/x-python",
   "name": "python",
   "nbconvert_exporter": "python",
   "pygments_lexer": "ipython3",
   "version": "3.7.10"
  },
  "toc": {
   "base_numbering": 1,
   "nav_menu": {},
   "number_sections": true,
   "sideBar": true,
   "skip_h1_title": false,
   "title_cell": "Table of Contents",
   "title_sidebar": "Contents",
   "toc_cell": false,
   "toc_position": {
    "height": "calc(100% - 180px)",
    "left": "10px",
    "top": "150px",
    "width": "165px"
   },
   "toc_section_display": true,
   "toc_window_display": true
  }
 },
 "nbformat": 4,
 "nbformat_minor": 2
}
