{
 "cells": [
  {
   "cell_type": "markdown",
   "metadata": {},
   "source": [
    "# Network measures"
   ]
  },
  {
   "cell_type": "markdown",
   "metadata": {
    "heading_collapsed": true
   },
   "source": [
    "### Local structures\n",
    "\n",
    "**Indegree**\n",
    "This is mostly a function of how Wikipedians revised the document and should largely be uniform across pages. The large values are likely pages with 'lists' of links.\n",
    "\n",
    "**Outdegree**\n",
    "This is 1st-order measure of an idea's influence.\n",
    "\n",
    "### Mesoscale structures\n",
    "\n",
    "**Clustering**\n",
    "These look equally clustered among the topics.\n",
    "\n",
    "**Centrality**\n",
    "This reveals the distribution of sources of ideas within a field.\n",
    "\n",
    "**Path lengths**\n",
    "\n",
    "**Rich-club coefficient**\n",
    "\n",
    "**Modularity**\n",
    "\n",
    "**Controllability**\n",
    "This is an nth-order measure of influence.\n",
    "\n",
    "**Observability**\n",
    "This is an nth-order measure of the inverse of influence.\n",
    "\n",
    "**Coreness**\n",
    "It seems that the more focused a topic is on a subtopic, the stronger the coreness. For example, genetics is heavily focused on DNA, and so it has high coreness. At the same time, in the field of economics, the concept of \"economics\" has high degree. Yet, it has low coreness because the field itself is heterogeneous, with major subfields such as \"macroeconomics\" and \"microeconomics\".\n",
    "\n",
    "**Characteristic path length**\n",
    "I'm not sure what path length reveals. Perhaps it is a measure of the heterogeneity in research? It describes how far one idea is to another, topologically. Cognitive science and earth science have ideas that are far away."
   ]
  },
  {
   "cell_type": "markdown",
   "metadata": {},
   "source": [
    "# Load networks"
   ]
  },
  {
   "cell_type": "code",
   "execution_count": null,
   "metadata": {},
   "outputs": [],
   "source": [
    "%reload_ext autoreload\n",
    "%autoreload 2\n",
    "import os,sys\n",
    "sys.path.insert(1, os.path.join(sys.path[0], '..', 'module'))\n",
    "import wikinet as wiki\n",
    "import numpy as np\n",
    "import pandas as pd\n",
    "import networkx as nx"
   ]
  },
  {
   "cell_type": "code",
   "execution_count": null,
   "metadata": {},
   "outputs": [],
   "source": [
    "path_networks = '/Users/harangju/Developer/data/wiki/graphs/'"
   ]
  },
  {
   "cell_type": "code",
   "execution_count": null,
   "metadata": {},
   "outputs": [],
   "source": [
    "topics = [\n",
    "    'anatomy', 'biochemistry', 'cognitive science', 'evolutionary biology',\n",
    "    'genetics', 'immunology', 'molecular biology', 'chemistry', 'biophysics',\n",
    "    'energy', 'optics', 'earth science', 'geology', 'meteorology',\n",
    "    'philosophy of language', 'philosophy of law', 'philosophy of mind',\n",
    "    'philosophy of science', 'economics', 'accounting', 'education',\n",
    "    'linguistics', 'law', 'psychology', 'sociology', 'electronics',\n",
    "    'software engineering', 'robotics',\n",
    "    'calculus', 'geometry', 'abstract algebra',\n",
    "    'Boolean algebra', 'commutative algebra', 'group theory', 'linear algebra',\n",
    "    'number theory', 'dynamical systems and differential equations'\n",
    "]"
   ]
  },
  {
   "cell_type": "code",
   "execution_count": null,
   "metadata": {},
   "outputs": [],
   "source": [
    "networks = {}\n",
    "for topic in topics:\n",
    "    print(topic, end=' ')\n",
    "    networks[topic] = wiki.Net()\n",
    "    networks[topic].load_graph(path_networks+'dated/'+topic+'.pickle')"
   ]
  },
  {
   "cell_type": "code",
   "execution_count": null,
   "metadata": {},
   "outputs": [],
   "source": [
    "num_nulls = 10\n",
    "null_targets = {}\n",
    "for topic in topics:\n",
    "    print(topic, end=' ')\n",
    "    null_targets[topic] = []\n",
    "    for i in range(num_nulls):\n",
    "        network = wiki.Net()\n",
    "        network.load_graph(path_networks+'null-target/'+topic+'-null-'+str(i)+'.pickle')\n",
    "        null_targets[topic].append(network)"
   ]
  },
  {
   "cell_type": "markdown",
   "metadata": {},
   "source": [
    "## Thresholded networks"
   ]
  },
  {
   "cell_type": "code",
   "execution_count": null,
   "metadata": {},
   "outputs": [],
   "source": [
    "import plotly.express as px\n",
    "\n",
    "edges = nx.get_edge_attributes(networks['cognitive science'].graph, 'weight')\n",
    "mean_weight = np.mean(list(edges.values()))\n",
    "fig = px.histogram(edges.values())\n",
    "fig.update_layout(\n",
    "    margin={'t':30, 'b':0}, width=500, height=300,\n",
    "    title=f\"mean = {mean_weight:.4}\")\n",
    "fig.show()"
   ]
  },
  {
   "cell_type": "code",
   "execution_count": null,
   "metadata": {},
   "outputs": [],
   "source": [
    "new_graph = networks['cognitive science'].graph.copy()\n",
    "print(len(new_graph.edges))\n",
    "edges = nx.get_edge_attributes(new_graph, 'weight')\n",
    "for (u, v), weight in edges.items():\n",
    "    if weight < mean_weight:\n",
    "        new_graph.remove_edge(u, v)\n",
    "print(len(new_graph.edges))"
   ]
  },
  {
   "cell_type": "markdown",
   "metadata": {},
   "source": [
    "# Run analysis\n",
    "\n",
    "**NOTE:** Skip section if loading stats."
   ]
  },
  {
   "cell_type": "code",
   "execution_count": null,
   "metadata": {},
   "outputs": [],
   "source": [
    "import bct\n",
    "import pickle\n",
    "from networkx.algorithms.cluster import clustering\n",
    "from networkx.algorithms import betweenness_centrality\n",
    "from networkx.convert_matrix import to_numpy_array"
   ]
  },
  {
   "cell_type": "code",
   "execution_count": null,
   "metadata": {},
   "outputs": [],
   "source": [
    "measures = {'indegree': lambda g: [x[1] for x in g.in_degree],\n",
    "            'outdegree': lambda g: [x[1] for x in g.out_degree],}\n",
    "#             'clustering': lambda g: list(clustering(g).values()),\n",
    "#             'centrality': lambda g: list(betweenness_centrality(g).values()),\n",
    "#             'char-path-length': lambda g: bct.charpath(to_numpy_array(g))[0],\n",
    "#             'modularity': lambda g: g.graph['modularity'],\n",
    "#             'coreness': lambda g: g.graph['coreness_be']}"
   ]
  },
  {
   "cell_type": "code",
   "execution_count": null,
   "metadata": {},
   "outputs": [],
   "source": [
    "df = pd.DataFrame(columns=['topic','measure','value'])\n",
    "for topic, network in networks.items():\n",
    "    print(topic, end=' ')\n",
    "    df = pd.concat([df] +\n",
    "                   [pd.DataFrame([[topic, measure, func(network.graph)]],\n",
    "                                 columns=['topic','measure','value'])\n",
    "                    for measure, func in measures.items()],\n",
    "                   ignore_index=True)"
   ]
  },
  {
   "cell_type": "code",
   "execution_count": null,
   "metadata": {},
   "outputs": [],
   "source": [
    "for topic, null_networks in null_targets.items():\n",
    "    print(topic, end=' ')\n",
    "    for network in null_networks:\n",
    "        df = pd.concat([df] + \n",
    "                       [pd.DataFrame([[topic, measure+'-null', func(network.graph)]],\n",
    "                                     columns=['topic','measure','value'])\n",
    "                        for measure, func in measures.items()],\n",
    "                       ignore_index=True)"
   ]
  },
  {
   "cell_type": "code",
   "execution_count": null,
   "metadata": {
    "scrolled": false
   },
   "outputs": [],
   "source": [
    "df"
   ]
  },
  {
   "cell_type": "markdown",
   "metadata": {},
   "source": [
    "# Save analysis"
   ]
  },
  {
   "cell_type": "code",
   "execution_count": null,
   "metadata": {},
   "outputs": [],
   "source": [
    "path_analysis = '/Users/harangju/Developer/data/wiki/analysis/'"
   ]
  },
  {
   "cell_type": "code",
   "execution_count": null,
   "metadata": {},
   "outputs": [],
   "source": [
    "pickle.dump(df, open(path_analysis + 'stats.pickle','wb'))"
   ]
  },
  {
   "cell_type": "code",
   "execution_count": null,
   "metadata": {},
   "outputs": [],
   "source": [
    "df.topic = df.topic.astype('category')\n",
    "df.measure = df.measure.astype('category')\n",
    "df.dtypes"
   ]
  },
  {
   "cell_type": "code",
   "execution_count": null,
   "metadata": {},
   "outputs": [],
   "source": [
    "df_expand = df.value\\\n",
    "              .apply(pd.Series)\\\n",
    "              .merge(df, left_index=True, right_index=True)\\\n",
    "              .drop('value', axis=1)\\\n",
    "              .melt(id_vars=['topic', 'measure'])\\\n",
    "              .drop('variable', axis=1)\\\n",
    "              .dropna()\n",
    "df_expand"
   ]
  },
  {
   "cell_type": "code",
   "execution_count": null,
   "metadata": {},
   "outputs": [],
   "source": [
    "px.histogram(\n",
    "    df_expand[(df_expand.topic=='anatomy') & (df_expand.measure=='indegree')].value.values,\n",
    "    width=500, height=300, title='indegree'\n",
    ").show()\n",
    "px.histogram(\n",
    "    df_expand[(df_expand.topic=='anatomy') & (df_expand.measure=='outdegree')].value.values,\n",
    "    width=500, height=300, title='outdegree'\n",
    ").show()"
   ]
  },
  {
   "cell_type": "code",
   "execution_count": null,
   "metadata": {},
   "outputs": [],
   "source": [
    "pickle.dump(df_expand, open(path_analysis + 'stats_expand.pickle','wb'))"
   ]
  },
  {
   "cell_type": "markdown",
   "metadata": {},
   "source": [
    "# Load analysis"
   ]
  },
  {
   "cell_type": "code",
   "execution_count": null,
   "metadata": {},
   "outputs": [],
   "source": [
    "import pickle\n",
    "import pandas as pd\n",
    "path_analysis = '/Users/harangju/Developer/data/wiki/analysis/'\n",
    "df = pickle.load(open(path_analysis+'stats.pickle', 'rb'))\n",
    "df_expand = pickle.load(open(path_analysis+'stats_expand.pickle', 'rb'))\n",
    "df.topic = df.topic.astype('object')\n",
    "df.measure = df.measure.astype('object')\n",
    "df_expand.topic = df_expand.topic.astype('object')\n",
    "df_expand.measure = df_expand.measure.astype('object')"
   ]
  },
  {
   "cell_type": "code",
   "execution_count": null,
   "metadata": {},
   "outputs": [],
   "source": [
    "df"
   ]
  },
  {
   "cell_type": "code",
   "execution_count": null,
   "metadata": {},
   "outputs": [],
   "source": [
    "pd.unique(df.topic)"
   ]
  },
  {
   "cell_type": "code",
   "execution_count": null,
   "metadata": {},
   "outputs": [],
   "source": [
    "pd.unique(df.measure)"
   ]
  },
  {
   "cell_type": "code",
   "execution_count": null,
   "metadata": {},
   "outputs": [],
   "source": [
    "df.dtypes"
   ]
  },
  {
   "cell_type": "code",
   "execution_count": null,
   "metadata": {
    "scrolled": false
   },
   "outputs": [],
   "source": [
    "df_expand"
   ]
  },
  {
   "cell_type": "code",
   "execution_count": null,
   "metadata": {
    "scrolled": false
   },
   "outputs": [],
   "source": [
    "df_mean = df_expand\\\n",
    "    .groupby(['topic', 'measure'])\\\n",
    "    .mean()\\\n",
    "    .reset_index()\\\n",
    "    .pivot(index='topic', columns='measure', values='value')\n",
    "df_mean"
   ]
  },
  {
   "cell_type": "code",
   "execution_count": null,
   "metadata": {},
   "outputs": [],
   "source": [
    "df_std = df_expand\\\n",
    "    .groupby(['topic', 'measure'])\\\n",
    "    .std()\\\n",
    "    .reset_index()\\\n",
    "    .pivot(index='topic', columns='measure', values='value')\n",
    "df_std"
   ]
  },
  {
   "cell_type": "markdown",
   "metadata": {},
   "source": [
    "# Plot\n",
    "\n",
    "* nice plots [seaborn](https://seaborn.pydata.org/examples/index.html)\n",
    "* interactive [Bokeh](https://bokeh.pydata.org/en/latest/docs/gallery.html#gallery)"
   ]
  },
  {
   "cell_type": "code",
   "execution_count": null,
   "metadata": {},
   "outputs": [],
   "source": [
    "from ipywidgets import interact, widgets, Layout\n",
    "import plotly\n",
    "import plotly.express as px\n",
    "import plotly.graph_objs as go\n",
    "import plotly.figure_factory as ff\n",
    "from IPython.display import display\n",
    "plotly.offline.init_notebook_mode(connected=True)"
   ]
  },
  {
   "cell_type": "code",
   "execution_count": null,
   "metadata": {},
   "outputs": [],
   "source": [
    "# path_fig = '/Users/harangju/Box Sync/Research/my papers/wikipedia/results/'\n",
    "path_fig = '/Users/harangju/Library/Mobile Documents/com~apple~CloudDocs/Documents/research/wikipedia/results'\n",
    "save_fig = True"
   ]
  },
  {
   "cell_type": "markdown",
   "metadata": {},
   "source": [
    "## Basic network statistics"
   ]
  },
  {
   "cell_type": "code",
   "execution_count": null,
   "metadata": {},
   "outputs": [],
   "source": [
    "import os\n",
    "\n",
    "path_plot = '1 network_stats'\n",
    "\n",
    "if not os.path.exists(f\"{path_fig}/{path_plot}\"):\n",
    "    os.mkdir(f\"{path_fig}/{path_plot}\")"
   ]
  },
  {
   "cell_type": "markdown",
   "metadata": {},
   "source": [
    "### Individual"
   ]
  },
  {
   "cell_type": "code",
   "execution_count": null,
   "metadata": {
    "scrolled": false
   },
   "outputs": [],
   "source": [
    "for measure in ['indegree', 'outdegree', 'clustering', 'centrality']:\n",
    "    fig = px.box(df_expand[(df_expand.measure==measure) |\n",
    "                           (df_expand.measure==measure+'-null')],\n",
    "                 x='topic', y='value', color='measure')\n",
    "    fig.update_layout(template='plotly_white',\n",
    "                      yaxis_title=measure)\n",
    "    fig.show()\n",
    "    if save_fig:\n",
    "        fig.write_image(f\"{path_fig}/{path_plot}/{measure}.pdf\")"
   ]
  },
  {
   "cell_type": "code",
   "execution_count": null,
   "metadata": {
    "scrolled": true
   },
   "outputs": [],
   "source": [
    "for measure in ['coreness', 'modularity', 'char-path-length']:\n",
    "    fig = px.scatter(df_expand[(df_expand.measure==measure) |\n",
    "                               (df_expand.measure==measure+'-null')],\n",
    "                     x='topic', y='value', color='measure')\n",
    "    fig.update_layout(template='plotly_white',\n",
    "                      yaxis_title=measure)\n",
    "    fig.show()\n",
    "    if save_fig:\n",
    "        fig.write_image(f\"{path_fig}/{path_plot}/{measure}.pdf\")"
   ]
  },
  {
   "cell_type": "markdown",
   "metadata": {},
   "source": [
    "### Summary"
   ]
  },
  {
   "cell_type": "code",
   "execution_count": null,
   "metadata": {},
   "outputs": [],
   "source": [
    "ranges = {'clustering': [0,0.3],\n",
    "          'centrality': [0,0.04],\n",
    "          'indegree': [0,10],\n",
    "          'outdegree': [0,10]}\n",
    "dticks = {'clustering': 0.1,\n",
    "          'centrality': 0.01,\n",
    "          'indegree': 1,\n",
    "          'outdegree': 1}"
   ]
  },
  {
   "cell_type": "code",
   "execution_count": null,
   "metadata": {
    "scrolled": false
   },
   "outputs": [],
   "source": [
    "for measure in ['indegree', 'outdegree']:#, 'clustering', 'centrality']:\n",
    "    fig = go.Figure()\n",
    "    fig.add_trace(go.Scatter(x=df_mean[measure+'-null'],\n",
    "                             y=df_mean[measure],\n",
    "                             mode='markers',\n",
    "                             marker={'color': '#2A3F5F'},\n",
    "                             showlegend=False))\n",
    "    fig.add_trace(go.Scatter(x=ranges[measure],\n",
    "                             y=ranges[measure],\n",
    "                             mode='lines',\n",
    "                             line={'dash': 'dash',\n",
    "                                   'color': '#2A3F5F'},\n",
    "                             showlegend=False))\n",
    "    fig.update_layout(template='plotly_white',\n",
    "                      width=360, height=360,\n",
    "                      title=measure,\n",
    "                      xaxis={'title': 'null',\n",
    "                             'range': ranges[measure],\n",
    "                             'dtick': dticks[measure]},\n",
    "                      yaxis={'title': 'real',\n",
    "                             'range': ranges[measure],\n",
    "                             'dtick': dticks[measure]})\n",
    "    fig.show()\n",
    "    if save_fig:\n",
    "        fig.write_image(os.path.join(path_fig,path_plot,f\"summary_{measure}.pdf\"))"
   ]
  },
  {
   "cell_type": "markdown",
   "metadata": {},
   "source": [
    "## Growing networks"
   ]
  },
  {
   "cell_type": "code",
   "execution_count": null,
   "metadata": {
    "scrolled": false
   },
   "outputs": [],
   "source": [
    "comm_t = pd.DataFrame()\n",
    "for topic, network in networks.items():\n",
    "    print(topic, end=' ')\n",
    "    comm_t = pd.concat([comm_t] +\n",
    "                       [pd.DataFrame([[topic,\n",
    "                                       node,\n",
    "                                       network.graph.nodes[node]['year'],\n",
    "                                       network.graph.nodes[node]['community'],\n",
    "                                       network.graph.nodes[node]['core_be'],\n",
    "                                       network.graph.nodes[node]['core_rb'],\n",
    "                                       1]],\n",
    "                                     columns=['topic','node','year',\n",
    "                                              'comm','core_be','core_rb',\n",
    "                                              'count'])\n",
    "                        for node in network.graph.nodes],\n",
    "                       ignore_index=True)\n",
    "comm_t = comm_t.merge(comm_t.groupby(['topic','comm'])['count'].sum(),\n",
    "                      on=['topic','comm'],\n",
    "                      suffixes=('','_topic_comm'))\\\n",
    "               .merge(comm_t.groupby(['topic','core_be'])['count'].sum(),\n",
    "                      on=['topic','core_be'],\n",
    "                      suffixes=('','_topic_core_be'))\\\n",
    "               .sort_values(by=['topic','year'])\\\n",
    "               .reset_index(drop=True)\n",
    "comm_t['comm_count'] = comm_t.groupby(['topic','comm'])['count']\\\n",
    "                             .transform(pd.Series.cumsum)\n",
    "comm_t['core_be_count'] = comm_t.groupby(['topic','core_be'])['count']\\\n",
    "                                .transform(pd.Series.cumsum)\n",
    "comm_t['comm_frac'] = comm_t['comm_count']/comm_t['count_topic_comm']\n",
    "comm_t['core_be_frac'] = comm_t['core_be_count']/comm_t['count_topic_core_be']\n",
    "comm_t = comm_t.drop(['count','count_topic_comm','count_topic_core_be'], axis=1)"
   ]
  },
  {
   "cell_type": "code",
   "execution_count": null,
   "metadata": {
    "scrolled": false
   },
   "outputs": [],
   "source": [
    "comm_t"
   ]
  },
  {
   "cell_type": "markdown",
   "metadata": {},
   "source": [
    "## Core-periphery"
   ]
  },
  {
   "cell_type": "code",
   "execution_count": null,
   "metadata": {},
   "outputs": [],
   "source": [
    "import os\n",
    "\n",
    "path_plot = '1 core_periphery'\n",
    "\n",
    "if not os.path.exists(f\"{path_fig}/{path_plot}\"):\n",
    "    os.mkdir(f\"{path_fig}/{path_plot}\")"
   ]
  },
  {
   "cell_type": "markdown",
   "metadata": {},
   "source": [
    "### Static"
   ]
  },
  {
   "cell_type": "code",
   "execution_count": null,
   "metadata": {},
   "outputs": [],
   "source": [
    "fig = go.Figure()\n",
    "fig.add_trace(go.Scatter(x=df_mean['coreness-null-target'],\n",
    "                         y=df_mean['coreness'],\n",
    "                         mode='markers',\n",
    "                         marker={'color': '#2A3F5F'},\n",
    "                         showlegend=False,\n",
    "                         hovertext=df_mean['topic']))\n",
    "fig.add_trace(go.Scatter(x=[0,1], y=[0,1],\n",
    "                         mode='lines',\n",
    "                         line={'dash': 'dash',\n",
    "                               'color': '#2A3F5F'},\n",
    "                         showlegend=False))\n",
    "fig.update_layout(template='plotly_white',\n",
    "                  title='coreness',\n",
    "                  width=500, height=500,\n",
    "                  xaxis=dict(title='null',\n",
    "                             range=[0,1]),\n",
    "                  yaxis=dict(title='real',\n",
    "                             range=[0,1],\n",
    "                             scaleanchor='x',\n",
    "                             scaleratio=1))\n",
    "fig.show()\n",
    "if save_fig:\n",
    "    fig.write_image(f\"{path_fig}/{path_plot}/coreness.pdf\")"
   ]
  },
  {
   "cell_type": "markdown",
   "metadata": {},
   "source": [
    "### Growth"
   ]
  },
  {
   "cell_type": "markdown",
   "metadata": {},
   "source": [
    "##### Borgatti-Everett"
   ]
  },
  {
   "cell_type": "code",
   "execution_count": null,
   "metadata": {},
   "outputs": [],
   "source": [
    "import os\n",
    "\n",
    "if not os.path.exists(f\"{path_fig}/{path_plot}/borgatti-everett/\"):\n",
    "    os.mkdir(f\"{path_fig}/{path_plot}/borgatti-everett/\")"
   ]
  },
  {
   "cell_type": "code",
   "execution_count": null,
   "metadata": {
    "scrolled": true
   },
   "outputs": [],
   "source": [
    "for topic in pd.unique(comm_t.topic):\n",
    "    fig = go.Figure()\n",
    "    fig.add_trace(go.Scatter(x=comm_t[(comm_t.topic==topic) &\\\n",
    "                                      (comm_t.core_be==0)]['year'],\n",
    "                             y=comm_t[(comm_t.topic==topic) &\\\n",
    "                                      (comm_t.core_be==0)]['core_be_count'],\n",
    "                             name='periphery'))\n",
    "    fig.add_trace(go.Scatter(x=comm_t[(comm_t.topic==topic) &\\\n",
    "                                      (comm_t.core_be==1)]['year'],\n",
    "                             y=comm_t[(comm_t.topic==topic) &\\\n",
    "                                      (comm_t.core_be==1)]['core_be_count'],\n",
    "                             name='core'))\n",
    "    fig.update_layout(template='plotly_white',\n",
    "                      title_text=topic,\n",
    "                      xaxis={'range': [0,2020]})\n",
    "    fig.show()\n",
    "    if save_fig:\n",
    "        fig.write_image(f\"{path_fig}/{path_plot}/borgatti-everett/{topic}.pdf\")"
   ]
  },
  {
   "cell_type": "markdown",
   "metadata": {},
   "source": [
    "##### Rombach"
   ]
  },
  {
   "cell_type": "code",
   "execution_count": null,
   "metadata": {},
   "outputs": [],
   "source": [
    "import os\n",
    "\n",
    "if not os.path.exists(f\"{path_fig}/{path_plot}/rombach/\"):\n",
    "    os.mkdir(f\"{path_fig}/{path_plot}/rombach/\")"
   ]
  },
  {
   "cell_type": "code",
   "execution_count": null,
   "metadata": {
    "scrolled": true
   },
   "outputs": [],
   "source": [
    "for topic in pd.unique(comm_t.topic):\n",
    "    fig = go.Figure()\n",
    "    fig.add_trace(go.Scatter(x=comm_t[comm_t.topic==topic].year,\n",
    "                             y=comm_t[comm_t.topic==topic].core_rb,\n",
    "                             mode='markers',\n",
    "                             marker={'size': 2}))\n",
    "    fig.update_layout(template='plotly_white',\n",
    "                      title_text=topic,\n",
    "                      width=500, height=500,\n",
    "                      xaxis={'title': 'year',\n",
    "                             'range': [1000,2020]},\n",
    "                      yaxis={'title': 'coreness'})\n",
    "    fig.show()\n",
    "    if save_fig:\n",
    "        fig.write_image(f\"{path_fig}/{path_plot}/rombach/{topic}.pdf\")"
   ]
  },
  {
   "cell_type": "markdown",
   "metadata": {},
   "source": [
    "##### Lead-lag"
   ]
  },
  {
   "cell_type": "code",
   "execution_count": null,
   "metadata": {},
   "outputs": [],
   "source": [
    "core = pd.DataFrame()\n",
    "for topic, network in networks.items():\n",
    "    for node in network.graph.nodes:\n",
    "        if network.graph.nodes[node]['core_be'] == 1:\n",
    "            year = network.graph.nodes[node]['year']\n",
    "            neighbors = list(network.graph.successors(node)) +\\\n",
    "                        list(network.graph.predecessors(node))\n",
    "            periphery = [neighbor for neighbor in neighbors\n",
    "                         if network.graph.nodes[neighbor]['core_be'] == 0]\n",
    "            new_rows = pd.DataFrame([[topic, node, year, periphery]],\n",
    "                                    columns=['topic','core','year','periphery'])\n",
    "            core = pd.concat([core, new_rows], ignore_index=True)\n",
    "core"
   ]
  },
  {
   "cell_type": "code",
   "execution_count": null,
   "metadata": {},
   "outputs": [],
   "source": [
    "core.iloc[0].core, core.iloc[0].periphery"
   ]
  },
  {
   "cell_type": "code",
   "execution_count": null,
   "metadata": {},
   "outputs": [],
   "source": [
    "[(node, networks['anatomy'].graph.nodes[node]['core_be'], networks['anatomy'].graph.nodes[node]['year'])\n",
    " for node in list(networks['anatomy'].graph.predecessors('Biology')) +\\\n",
    "             list(networks['anatomy'].graph.successors('Biology'))]"
   ]
  },
  {
   "cell_type": "code",
   "execution_count": null,
   "metadata": {},
   "outputs": [],
   "source": [
    "core_expand = core.periphery\\\n",
    "                  .apply(pd.Series)\\\n",
    "                  .merge(core, left_index=True, right_index=True)\\\n",
    "                  .drop(['periphery'], axis=1)\\\n",
    "                  .melt(id_vars=['topic','core','year'], value_name='periphery')\\\n",
    "                  .drop('variable', axis=1)\\\n",
    "                  .sort_values(by=['topic','core'])\\\n",
    "                  .dropna()\\\n",
    "                  .reset_index(drop=True)\n",
    "core_expand['year_periphery'] = [networks[core_expand.iloc[i].topic].graph\\\n",
    "                                     .nodes[core_expand.iloc[i].periphery]['year']\n",
    "                                 for i in core_expand.index]\n",
    "core_expand"
   ]
  },
  {
   "cell_type": "code",
   "execution_count": null,
   "metadata": {},
   "outputs": [],
   "source": [
    "import os\n",
    "\n",
    "if not os.path.exists(f\"{path_fig}/{path_plot}/lead_lag\"):\n",
    "    os.mkdir(f\"{path_fig}/{path_plot}/lead_lag\")"
   ]
  },
  {
   "cell_type": "code",
   "execution_count": null,
   "metadata": {
    "scrolled": true
   },
   "outputs": [],
   "source": [
    "for topic in pd.unique(core_expand.topic):\n",
    "    fig = go.Figure()\n",
    "    data = core_expand[core_expand.topic==topic]\n",
    "    fig.add_trace(go.Scatter(x=data.year,\n",
    "                             y=data.year_periphery,\n",
    "                             mode='markers',\n",
    "                             marker={'size': 2}))\n",
    "    fig.update_layout(template='plotly_white',\n",
    "                      title_text=topic,\n",
    "                      width=500, height=500,\n",
    "                      xaxis={'title': 'year (core)',\n",
    "                             'range': [np.min(data.year)-100, np.max(data.year)+100]},\n",
    "                      yaxis={'title': 'year (neighboring periphery)',\n",
    "                             'range': [np.min(data.year)-100, np.max(data.year)+100],\n",
    "                             'scaleanchor': 'x',\n",
    "                             'scaleratio': 1})\n",
    "    fig.show()\n",
    "    if save_fig:\n",
    "        fig.write_image(f\"{path_fig}/{path_plot}/lead_lag/{topic}.pdf\")"
   ]
  },
  {
   "cell_type": "markdown",
   "metadata": {},
   "source": [
    "##### Summary"
   ]
  },
  {
   "cell_type": "code",
   "execution_count": null,
   "metadata": {
    "scrolled": false
   },
   "outputs": [],
   "source": [
    "fig = go.Figure()\n",
    "for topic in pd.unique(core_expand.topic):\n",
    "    data = core_expand[core_expand.topic==topic]\n",
    "    fig.add_trace(go.Violin(x=data.year-data.year_periphery,\n",
    "                            name=topic,\n",
    "                            marker={'size': 5,\n",
    "                                    'symbol': 'line-ns-open',\n",
    "                                    'color': '#2A3F5F'}))\n",
    "fig.update_layout(template='plotly_white',\n",
    "                  height=1000,\n",
    "                  title_text='year (core) - year (periphery)',\n",
    "                  showlegend=False)\n",
    "fig.show()\n",
    "if save_fig:\n",
    "    fig.write_image(f\"{path_fig}/{path_plot}/lead_lag.pdf\")"
   ]
  },
  {
   "cell_type": "code",
   "execution_count": null,
   "metadata": {},
   "outputs": [],
   "source": [
    "fig = go.Figure()\n",
    "fig.add_trace(\n",
    "    go.Violin(\n",
    "        x=core_expand.year-core_expand.year_periphery,\n",
    "        name='',\n",
    "        marker={\n",
    "            'size': 5,\n",
    "#             'symbol': 'line-ns-open',\n",
    "            'color': '#2A3F5F'\n",
    "        }\n",
    "    )\n",
    ")\n",
    "fig.update_layout(\n",
    "    template='plotly_white',\n",
    "    width=500, height=500,\n",
    "    title_text='year (core) - year (periphery)',\n",
    "    showlegend=False\n",
    ")\n",
    "fig.show()\n",
    "# fig.write_image(f\"{path_fig}/{path_plot}/lead_lag.pdf\")"
   ]
  },
  {
   "cell_type": "markdown",
   "metadata": {},
   "source": [
    "### Statistical tests"
   ]
  },
  {
   "cell_type": "code",
   "execution_count": null,
   "metadata": {},
   "outputs": [],
   "source": [
    "import scipy as sp\n",
    "\n",
    "for topic in pd.unique(core_expand.topic):\n",
    "    data = core_expand[core_expand.topic==topic]\n",
    "    t, p = sp.stats.ttest_1samp(\n",
    "        data.year - data.year_periphery, 0\n",
    "    )\n",
    "    print(topic, '\\n\\t', t, p/2)"
   ]
  },
  {
   "cell_type": "code",
   "execution_count": null,
   "metadata": {},
   "outputs": [],
   "source": [
    "import scipy as sp\n",
    "\n",
    "t, p = sp.stats.shapiro(core_expand.year - core_expand.year_periphery)\n",
    "print(t, p)"
   ]
  },
  {
   "cell_type": "code",
   "execution_count": null,
   "metadata": {},
   "outputs": [],
   "source": [
    "import scipy as sp\n",
    "\n",
    "t, p = sp.stats.ttest_1samp(\n",
    "    core_expand.year - core_expand.year_periphery, 0\n",
    ")\n",
    "print(t, p)"
   ]
  },
  {
   "cell_type": "markdown",
   "metadata": {},
   "source": [
    "## Modularity"
   ]
  },
  {
   "cell_type": "code",
   "execution_count": null,
   "metadata": {},
   "outputs": [],
   "source": [
    "import os\n",
    "\n",
    "path_plot = '1 modularity'\n",
    "\n",
    "if not os.path.exists(f\"{path_fig}/{path_plot}\"):\n",
    "    os.mkdir(f\"{path_fig}/{path_plot}\")"
   ]
  },
  {
   "cell_type": "markdown",
   "metadata": {},
   "source": [
    "### Static"
   ]
  },
  {
   "cell_type": "code",
   "execution_count": null,
   "metadata": {},
   "outputs": [],
   "source": [
    "fig = go.Figure()\n",
    "fig.add_trace(go.Scatter(x=df_mean['modularity-null-target'],\n",
    "                         y=df_mean['modularity'],\n",
    "                         mode='markers',\n",
    "                         line={'color': '#2A3F5F'},\n",
    "                         showlegend=False,\n",
    "                         hovertext=df_mean['topic']))\n",
    "fig.add_trace(go.Scatter(x=[0,1], y=[0,1],\n",
    "                         mode='lines',\n",
    "                         line={'dash': 'dash',\n",
    "                               'color': '#2A3F5F'},\n",
    "                         showlegend=False))\n",
    "fig.update_layout(template='plotly_white',\n",
    "                  title='modularity',\n",
    "                  width=500, height=500,\n",
    "                  xaxis=dict(title='null',\n",
    "                             range=[0,1]),\n",
    "                  yaxis=dict(title='real',\n",
    "                             range=[0,1],\n",
    "                             scaleanchor='x',\n",
    "                             scaleratio=1))\n",
    "fig.show()\n",
    "if save_fig:\n",
    "    fig.write_image(f\"{path_fig}/{path_plot}/modularity.pdf\")"
   ]
  },
  {
   "cell_type": "markdown",
   "metadata": {},
   "source": [
    "### Growth"
   ]
  },
  {
   "cell_type": "code",
   "execution_count": null,
   "metadata": {},
   "outputs": [],
   "source": [
    "import os\n",
    "\n",
    "if not os.path.exists(f\"{path_fig}/{path_modularity}/growth/\"):\n",
    "    os.mkdir(f\"{path_fig}/{path_modularity}/growth\")"
   ]
  },
  {
   "cell_type": "code",
   "execution_count": null,
   "metadata": {
    "scrolled": true
   },
   "outputs": [],
   "source": [
    "for topic in networks.keys():\n",
    "    fig = go.Figure()\n",
    "    data = comm_t[comm_t.topic==topic]\n",
    "    for i in sorted(pd.unique(comm_t.comm)):\n",
    "        fig.add_trace(go.Scatter(x=data[data.comm==i]['year'],\n",
    "                                 y=data[data.comm==i]['comm_count'],\n",
    "                                 mode='lines',\n",
    "                                 name=str(i)))\n",
    "    fig.update_layout(template='plotly_white',\n",
    "                      title_text=topic,\n",
    "                      xaxis={'range': [0,2000],\n",
    "                             'title': 'year'},\n",
    "                      yaxis={'title': '# nodes',\n",
    "                             'range': [-1,np.max(data.comm_count)]})\n",
    "    fig.show()\n",
    "    fig.write_image(f\"{path_fig}/{path_modularity}/growth/{topic}.pdf\")"
   ]
  },
  {
   "cell_type": "markdown",
   "metadata": {},
   "source": [
    "### Cores in modules"
   ]
  },
  {
   "cell_type": "code",
   "execution_count": null,
   "metadata": {},
   "outputs": [],
   "source": [
    "import os\n",
    "\n",
    "if not os.path.exists(f\"{path_fig}/{path_plot}/core_module/\"):\n",
    "    os.mkdir(f\"{path_fig}/{path_plot}/core_module\")"
   ]
  },
  {
   "cell_type": "code",
   "execution_count": null,
   "metadata": {},
   "outputs": [],
   "source": [
    "comm_core = pd.concat([pd.DataFrame([[topic,\n",
    "                                      node,\n",
    "                                      network.graph.nodes[node]['year'],\n",
    "                                      network.graph.nodes[node]['community'],\n",
    "                                      network.graph.nodes[node]['community_core_be'],\n",
    "                                      1 if network.graph.nodes[node]['community_core_be']==0 else 0,\n",
    "                                      network.graph.graph['community_coreness_be']\\\n",
    "                                          [network.graph.nodes[node]['community']],\n",
    "                                      1\n",
    "                                     ]],\n",
    "                                    columns=['topic','node','year','community','community_core',\n",
    "                                             'community_peri','community_coreness','count'])\n",
    "                       for topic, network in networks.items()\n",
    "                       for node in network.graph.nodes],\n",
    "                      ignore_index=True)\\\n",
    "              .sort_values(by='year')\n",
    "comm_core = comm_core\\\n",
    "              .merge(comm_core.groupby(['community'])['count'].sum(),\n",
    "                     on=['community'],\n",
    "                     suffixes=('','_sum'))\n",
    "comm_core['core_count'] = comm_core.groupby(['community'])['community_core']\\\n",
    "                                             .transform(pd.Series.cumsum)\n",
    "comm_core['peri_count'] = comm_core.groupby(['community'])['community_peri']\\\n",
    "                                             .transform(pd.Series.cumsum)\n",
    "comm_core = comm_core.drop(['count', 'count_sum', 'community_core', 'community_peri'], axis=1)\n",
    "comm_core"
   ]
  },
  {
   "cell_type": "code",
   "execution_count": null,
   "metadata": {
    "scrolled": true
   },
   "outputs": [],
   "source": [
    "for topic, network in networks.items():\n",
    "    fig = go.Figure()\n",
    "    for i in range(4):\n",
    "        data = comm_core[(comm_core.topic==topic) & (comm_core.community==i)]\n",
    "        fig.add_trace(go.Scatter(x=data['year'],\n",
    "                                 y=(data['core_count']/np.max(data['core_count']))\\\n",
    "                                     /(data['peri_count']/np.max(data['peri_count'])),\n",
    "                                 mode='lines',\n",
    "                                 name=f\"community {i}\"))\n",
    "    fig.add_trace(go.Scatter(x=[np.min(comm_core.year),np.max(comm_core.year)],\n",
    "                             y=[1,1],\n",
    "                             mode='lines',\n",
    "                             line={'dash': 'dash'},\n",
    "                             name='equal'))\n",
    "    fig.update_layout(template='plotly_white',\n",
    "                      title_text=topic,\n",
    "                      xaxis={'range': [1500,2030]},\n",
    "                      yaxis={'title': '% cores/% periphery'},\n",
    "                      height=400)\n",
    "    fig.show()\n",
    "    if save_fig:\n",
    "        fig.write_image(f\"{path_fig}/{path_plot}/core_module/{topic}.pdf\")"
   ]
  },
  {
   "cell_type": "markdown",
   "metadata": {},
   "source": [
    "### Summary"
   ]
  },
  {
   "cell_type": "code",
   "execution_count": null,
   "metadata": {},
   "outputs": [],
   "source": [
    "core_mod = pd.DataFrame()\n",
    "for topic, network in networks.items():\n",
    "    for node in network.graph.nodes:\n",
    "        if network.graph.nodes[node]['community_core_be'] == 1:\n",
    "            year = network.graph.nodes[node]['year']\n",
    "            community = network.graph.nodes[node]['community']\n",
    "            neighbors = list(network.graph.successors(node)) +\\\n",
    "                        list(network.graph.predecessors(node))\n",
    "            periphery = [neighbor for neighbor in neighbors\n",
    "                         if network.graph.nodes[neighbor]['community'] == community and\\\n",
    "                            network.graph.nodes[neighbor]['community_core_be'] == 0]\n",
    "            new_rows = pd.DataFrame([[topic, node, year, community, periphery]],\n",
    "                                    columns=['topic','core','year','community','periphery'])\n",
    "            core_mod = pd.concat([core_mod, new_rows], ignore_index=True)\n",
    "core_mod"
   ]
  },
  {
   "cell_type": "code",
   "execution_count": null,
   "metadata": {},
   "outputs": [],
   "source": [
    "core_mod_expand = core_mod.periphery\\\n",
    "                          .apply(pd.Series)\\\n",
    "                          .merge(core_mod, left_index=True, right_index=True)\\\n",
    "                          .drop(['periphery'], axis=1)\\\n",
    "                          .melt(id_vars=['topic','core','year','community'], value_name='periphery')\\\n",
    "                          .drop('variable', axis=1)\\\n",
    "                          .sort_values(by=['topic','core'])\\\n",
    "                          .dropna()\\\n",
    "                          .reset_index(drop=True)\n",
    "core_mod_expand['year_periphery'] = [networks[core_mod_expand.iloc[i].topic].graph\\\n",
    "                                       .nodes[core_mod_expand.iloc[i].periphery]['year']\n",
    "                                     for i in core_mod_expand.index]\n",
    "core_mod_expand"
   ]
  },
  {
   "cell_type": "code",
   "execution_count": null,
   "metadata": {},
   "outputs": [],
   "source": [
    "fig = go.Figure()\n",
    "for topic in pd.unique(core_mod_expand.topic):\n",
    "    data = core_mod_expand[core_mod_expand.topic==topic]\n",
    "    fig.add_trace(go.Violin(x=data.year-data.year_periphery,\n",
    "                            name=topic,\n",
    "                            marker={'size': 5,\n",
    "                                    'symbol': 'line-ns-open'}))\n",
    "fig.update_layout(template='plotly_white',\n",
    "                  height=1000,\n",
    "                  title_text='year (core) - year (periphery)',\n",
    "                  xaxis={},\n",
    "                  showlegend=False)\n",
    "fig.show()\n",
    "if save_fig:\n",
    "    fig.write_image(f\"{path_fig}/{path_plot}/lead_lag.pdf\")"
   ]
  },
  {
   "cell_type": "markdown",
   "metadata": {},
   "source": [
    "**Note**: We're more explorers than formulists."
   ]
  },
  {
   "cell_type": "markdown",
   "metadata": {},
   "source": [
    "# Table"
   ]
  },
  {
   "cell_type": "code",
   "execution_count": null,
   "metadata": {},
   "outputs": [],
   "source": [
    "df_mean"
   ]
  },
  {
   "cell_type": "code",
   "execution_count": null,
   "metadata": {},
   "outputs": [],
   "source": [
    "df_std"
   ]
  },
  {
   "cell_type": "code",
   "execution_count": null,
   "metadata": {
    "scrolled": true
   },
   "outputs": [],
   "source": [
    "for topic in sorted(topics):\n",
    "    print(topic, end='\\t')\n",
    "    print(len(networks[topic].graph.nodes), end='\\t')\n",
    "    print(\n",
    "        f\"{df_mean.loc[topic].clustering:.2f}±{df_std.loc[topic].clustering:.3f}\",\n",
    "        end='\\t'\n",
    "    )\n",
    "    print(f\"{df_mean.loc[topic].modularity:.2f}\", end='\\t')\n",
    "    print(f\"{df_mean.loc[topic].coreness:.2f}\")"
   ]
  }
 ],
 "metadata": {
  "kernelspec": {
   "display_name": "Python 3",
   "language": "python",
   "name": "python3"
  },
  "language_info": {
   "codemirror_mode": {
    "name": "ipython",
    "version": 3
   },
   "file_extension": ".py",
   "mimetype": "text/x-python",
   "name": "python",
   "nbconvert_exporter": "python",
   "pygments_lexer": "ipython3",
   "version": "3.7.10"
  },
  "toc": {
   "base_numbering": 1,
   "nav_menu": {},
   "number_sections": true,
   "sideBar": true,
   "skip_h1_title": false,
   "title_cell": "Table of Contents",
   "title_sidebar": "Contents",
   "toc_cell": false,
   "toc_position": {
    "height": "calc(100% - 180px)",
    "left": "10px",
    "top": "150px",
    "width": "215.59375px"
   },
   "toc_section_display": true,
   "toc_window_display": true
  }
 },
 "nbformat": 4,
 "nbformat_minor": 2
}
